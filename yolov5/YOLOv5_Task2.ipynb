{
  "nbformat": 4,
  "nbformat_minor": 0,
  "metadata": {
    "colab": {
      "name": "YOLOv5_Task2.ipynb",
      "provenance": [],
      "collapsed_sections": [
        "w1gvEmCWFLms",
        "dPIcRiI8huXB",
        "pGVA6yYS5xhF",
        "pW4ynayEcuRJ",
        "H1Qy7v-lEsfi",
        "LBd9HrZmHEoj",
        "LxRaT77Y4InS",
        "scvDWq9HyJbB",
        "05N2Gm4UyOoU",
        "2RWpKxM0ybph",
        "mVqtQbifzm1o",
        "IxsW1lycc8bQ",
        "YGlD1W0kQKoe"
      ],
      "include_colab_link": true
    },
    "kernelspec": {
      "name": "python3",
      "display_name": "Python 3"
    },
    "language_info": {
      "name": "python"
    },
    "accelerator": "GPU"
  },
  "cells": [
    {
      "cell_type": "markdown",
      "metadata": {
        "id": "view-in-github",
        "colab_type": "text"
      },
      "source": [
        "<a href=\"https://colab.research.google.com/github/sosodoit/yolov5/blob/main/YOLOv5_Task2.ipynb\" target=\"_parent\"><img src=\"https://colab.research.google.com/assets/colab-badge.svg\" alt=\"Open In Colab\"/></a>"
      ]
    },
    {
      "cell_type": "markdown",
      "metadata": {
        "id": "GMdkRcZN5nIO"
      },
      "source": [
        "<ul>Task 0 (YOLOv5 note)\n",
        "<dl>용어, 개념, 궁금한 문제들 기록 (<a href=\"https://colab.research.google.com/drive/1u8S1vF5g9dSR8oDBJxjqiY9AH0C43jjF?usp=sharing\">link</a>)</dl>\n",
        "</ul>\n",
        "\n",
        "<ol type=\"I\">\n",
        "  <li>Task 1 (사전작업)</li>\n",
        "  <dl>YOLOv5 모델작업에 들어가기전, 데이터를 확인하고 정제한 작업 내용을 담고 있습니다(<a href=\"https://colab.research.google.com/drive/1fBpA9nP9l9pPbSCTFzNk1J2amQNDTZbQ?usp=sharing\">link</a>)</dl>\n",
        "  <ul type=\"square\">\n",
        "  <li>Putting data into a folder</li>\n",
        "  <li>Convert the Annotations into the YOLOv5 Format</li>\n",
        "  <li>Testing the annotations</li>\n",
        "  <li>Partition the Dataset</li>\n",
        "  </ul>\n",
        "<strong>\n",
        "  <li>Task 2 (학습)</li>\n",
        "  <dl>YOLOv5 환경설정부터 학습한 작업내용을 담고 있습니다(here)</dl>\n",
        "  <ul type=\"square\">\n",
        "  <li>Set up the environment</li>\n",
        "  <li>Data Config File</li>\n",
        "  <li>Hyper-parameter Config File</li>\n",
        "  <li>Custom Network Architecture</li>\n",
        "  <li>Train the Model</li>\n",
        "  </ul>\n",
        "</strong>\n",
        "  <li>Task 3 (결과)</li>\n",
        "  <dl>학습 후 테스트와 성능평가의 결과내용을 담고 있습니다(<a href=\"https://colab.research.google.com/drive/1---iUi0KXpVVjn95BNmsDyScnzLmFY6p?usp=sharing\">link</a>)</dl>\n",
        "  <ul type=\"square\">\n",
        "  <li>Test</li>\n",
        "  <li>Computing the mAP on test dataset</li>\n",
        "  </ul>\n",
        "</ol>\n"
      ]
    },
    {
      "cell_type": "markdown",
      "metadata": {
        "id": "9qnkgT1L7p-9"
      },
      "source": [
        "---\n",
        "---\n",
        "---\n",
        "# (실행1)Set up the environment\n",
        "한 번 진행 후부터는 경로설정과 라이브러리 임포트만 해주면 된다(단, pip 업데이트는 해줘야함).\n",
        "```python\n",
        "########## 경로설정 ##########\n",
        "from google.colab import drive\n",
        "drive.mount('/content/gdrive')\n",
        "%cd /content/gdrive/MyDrive/객체탐지\n",
        "!pip install --upgrade pip\n",
        "########## 라이브러리 ##########\n",
        "import os \n",
        "from sklearn.model_selection import train_test_split\n",
        "import xml.etree.ElementTree as ET\n",
        "from xml.dom import minidom\n",
        "from PIL import Image, ImageDraw\n",
        "import matplotlib.pyplot as plt\n",
        "from glob import glob\n",
        "from tqdm import tqdm\n",
        "import pandas as pd\n",
        "import numpy as np\n",
        "import random\n",
        "import shutil\n",
        "import torch\n",
        "from IPython.display import Image, clear_output\n",
        "clear_output()\n",
        "print('Setup complete. Using torch %s %s' % (torch.__version__, torch.cuda.get_device_properties(0) if torch.cuda.is_available() else 'CPU'))\n",
        "```\n"
      ]
    },
    {
      "cell_type": "markdown",
      "metadata": {
        "id": "8tOqbxlcc-DW"
      },
      "source": [
        "## Colab Setup"
      ]
    },
    {
      "cell_type": "code",
      "metadata": {
        "id": "GqcZe5FTzOD8"
      },
      "source": [
        "########## 경로설정 ##########\n",
        "from google.colab import drive\n",
        "drive.mount('/content/gdrive')\n",
        "%cd /content/gdrive/MyDrive/객체탐지\n",
        "!ls"
      ],
      "execution_count": null,
      "outputs": []
    },
    {
      "cell_type": "code",
      "metadata": {
        "id": "YcxllhLntKgk"
      },
      "source": [
        "########## Clone YOLOv5 GitHub repository ##########\n",
        "!git clone https://github.com/ultralytics/yolov5.git"
      ],
      "execution_count": null,
      "outputs": []
    },
    {
      "cell_type": "code",
      "metadata": {
        "id": "omX1kz7hqVbu"
      },
      "source": [
        "########## 주의: yolov5 경로에서 진행해야함 ##########\n",
        "%cd yolov5 "
      ],
      "execution_count": null,
      "outputs": []
    },
    {
      "cell_type": "code",
      "metadata": {
        "id": "rQ-8Ivhr3KuU"
      },
      "source": [
        "########## YOLOv5를 위한 패키지 설치 ##########\n",
        "!pip install -r requirements.txt"
      ],
      "execution_count": null,
      "outputs": []
    },
    {
      "cell_type": "code",
      "metadata": {
        "id": "qrT_PeujZm92"
      },
      "source": [
        "########## 왜인지는 모르나 pip 업데이트를 해줘야 학습진행시 에러가 안남 ##########\n",
        "!pip install --upgrade pip"
      ],
      "execution_count": null,
      "outputs": []
    },
    {
      "cell_type": "code",
      "metadata": {
        "id": "cbugJp7HAtPa"
      },
      "source": [
        "import os \n",
        "from sklearn.model_selection import train_test_split\n",
        "import xml.etree.ElementTree as ET\n",
        "from xml.dom import minidom\n",
        "from PIL import Image, ImageDraw\n",
        "import matplotlib.pyplot as plt\n",
        "from glob import glob\n",
        "from tqdm import tqdm\n",
        "import pandas as pd\n",
        "import numpy as np\n",
        "import random\n",
        "import shutil\n",
        "\n",
        "import torch\n",
        "from IPython.display import Image, clear_output\n",
        "clear_output()\n",
        "print('Setup complete. Using torch %s %s' % (torch.__version__, torch.cuda.get_device_properties(0) if torch.cuda.is_available() else 'CPU'))"
      ],
      "execution_count": null,
      "outputs": []
    },
    {
      "cell_type": "markdown",
      "metadata": {
        "id": "IxsW1lycc8bQ"
      },
      "source": [
        "**참고: Anaconda에서 진행할 시 YOLOv5 환경설정**\n",
        "\n",
        "```python\n",
        "##yolov5 아나콘다 가상환경 생성\n",
        "conda create -n yolov5 python=3.8\n",
        "conda activate yolov5\n",
        "##yolov5 깃헙 클론\n",
        "!git clone https://github.com/ultralytics/yolov5.git\n",
        "##PyTorch ( [cuda 버전 확인](https://pytorch.org/get-started/previous-versions/) )\n",
        "##yolov5는 최소 python>=3.8, pythorch>=1.7을 만족해야함\n",
        "conda install pytorch==1.9.0 torchvision==0.8.1 torchaudio==0.7.2 cudatoolkit=11.0 -c pytorch \n",
        "pip install matplotlib tqdm opencv-python pillow PyYAML scipy tensorboard\n",
        "conda install ipykernel\n",
        "python -m ipykernel install --user --name \n",
        "yolov5 --display-name yolov5Kenrel\n",
        "#혹은\n",
        "pip install -r requirements.txt\n",
        "pip install --upgrade pip\n",
        "```"
      ]
    },
    {
      "cell_type": "markdown",
      "metadata": {
        "id": "N0IGH41nX-MS"
      },
      "source": [
        "**참고: Colab 서버 스펙 확인**"
      ]
    },
    {
      "cell_type": "code",
      "metadata": {
        "colab": {
          "base_uri": "https://localhost:8080/"
        },
        "id": "Ab0y76Mf7ok3",
        "outputId": "4369280a-3ddb-4a62-b544-651cd240d867"
      },
      "source": [
        "from tensorflow.python.client import device_lib\n",
        "device_lib.list_local_devices()"
      ],
      "execution_count": 1,
      "outputs": [
        {
          "output_type": "execute_result",
          "data": {
            "text/plain": [
              "[name: \"/device:CPU:0\"\n",
              " device_type: \"CPU\"\n",
              " memory_limit: 268435456\n",
              " locality {\n",
              " }\n",
              " incarnation: 13786061021699090796, name: \"/device:GPU:0\"\n",
              " device_type: \"GPU\"\n",
              " memory_limit: 11345264640\n",
              " locality {\n",
              "   bus_id: 1\n",
              "   links {\n",
              "   }\n",
              " }\n",
              " incarnation: 15430327371922178359\n",
              " physical_device_desc: \"device: 0, name: Tesla K80, pci bus id: 0000:00:04.0, compute capability: 3.7\"]"
            ]
          },
          "metadata": {},
          "execution_count": 1
        }
      ]
    },
    {
      "cell_type": "code",
      "metadata": {
        "colab": {
          "base_uri": "https://localhost:8080/",
          "height": 35
        },
        "id": "S_WV9g187yLP",
        "outputId": "fb663eb3-cd11-472d-e069-731fde132f35"
      },
      "source": [
        "import platform\n",
        "platform.platform()"
      ],
      "execution_count": 2,
      "outputs": [
        {
          "output_type": "execute_result",
          "data": {
            "application/vnd.google.colaboratory.intrinsic+json": {
              "type": "string"
            },
            "text/plain": [
              "'Linux-5.4.104+-x86_64-with-Ubuntu-18.04-bionic'"
            ]
          },
          "metadata": {},
          "execution_count": 2
        }
      ]
    },
    {
      "cell_type": "code",
      "metadata": {
        "colab": {
          "base_uri": "https://localhost:8080/"
        },
        "id": "XZ7xIP0Y707b",
        "outputId": "12fbdd57-38c4-4f97-ce54-c13c38f23e1c"
      },
      "source": [
        "!cat /etc/issue.net"
      ],
      "execution_count": 3,
      "outputs": [
        {
          "output_type": "stream",
          "name": "stdout",
          "text": [
            "Ubuntu 18.04.5 LTS\n"
          ]
        }
      ]
    },
    {
      "cell_type": "code",
      "metadata": {
        "colab": {
          "base_uri": "https://localhost:8080/"
        },
        "id": "V-Rt8rNfB1yy",
        "outputId": "c7b1b9d0-7633-4f62-8283-9153703b3ef7"
      },
      "source": [
        "!cat /proc/meminfo"
      ],
      "execution_count": 4,
      "outputs": [
        {
          "output_type": "stream",
          "name": "stdout",
          "text": [
            "MemTotal:       13302924 kB\n",
            "MemFree:         9463688 kB\n",
            "MemAvailable:   12121728 kB\n",
            "Buffers:          128576 kB\n",
            "Cached:          2571424 kB\n",
            "SwapCached:            0 kB\n",
            "Active:          1308036 kB\n",
            "Inactive:        2171776 kB\n",
            "Active(anon):     648436 kB\n",
            "Inactive(anon):     2492 kB\n",
            "Active(file):     659600 kB\n",
            "Inactive(file):  2169284 kB\n",
            "Unevictable:           0 kB\n",
            "Mlocked:               0 kB\n",
            "SwapTotal:             0 kB\n",
            "SwapFree:              0 kB\n",
            "Dirty:               164 kB\n",
            "Writeback:             0 kB\n",
            "AnonPages:        779828 kB\n",
            "Mapped:           563808 kB\n",
            "Shmem:              3232 kB\n",
            "KReclaimable:     141264 kB\n",
            "Slab:             196448 kB\n",
            "SReclaimable:     141264 kB\n",
            "SUnreclaim:        55184 kB\n",
            "KernelStack:        4980 kB\n",
            "PageTables:         8500 kB\n",
            "NFS_Unstable:          0 kB\n",
            "Bounce:                0 kB\n",
            "WritebackTmp:          0 kB\n",
            "CommitLimit:     6651460 kB\n",
            "Committed_AS:    3532672 kB\n",
            "VmallocTotal:   34359738367 kB\n",
            "VmallocUsed:       46696 kB\n",
            "VmallocChunk:          0 kB\n",
            "Percpu:             1424 kB\n",
            "AnonHugePages:      2048 kB\n",
            "ShmemHugePages:        0 kB\n",
            "ShmemPmdMapped:        0 kB\n",
            "FileHugePages:         0 kB\n",
            "FilePmdMapped:         0 kB\n",
            "CmaTotal:              0 kB\n",
            "CmaFree:               0 kB\n",
            "HugePages_Total:       0\n",
            "HugePages_Free:        0\n",
            "HugePages_Rsvd:        0\n",
            "HugePages_Surp:        0\n",
            "Hugepagesize:       2048 kB\n",
            "Hugetlb:               0 kB\n",
            "DirectMap4k:      189248 kB\n",
            "DirectMap2M:     6098944 kB\n",
            "DirectMap1G:     9437184 kB\n"
          ]
        }
      ]
    },
    {
      "cell_type": "code",
      "metadata": {
        "colab": {
          "base_uri": "https://localhost:8080/"
        },
        "id": "iokEvLVCB12C",
        "outputId": "6b4945e6-7e2e-4251-89f5-a18b7964c6ab"
      },
      "source": [
        "!cat /proc/cpuinfo"
      ],
      "execution_count": 5,
      "outputs": [
        {
          "output_type": "stream",
          "name": "stdout",
          "text": [
            "processor\t: 0\n",
            "vendor_id\t: GenuineIntel\n",
            "cpu family\t: 6\n",
            "model\t\t: 63\n",
            "model name\t: Intel(R) Xeon(R) CPU @ 2.30GHz\n",
            "stepping\t: 0\n",
            "microcode\t: 0x1\n",
            "cpu MHz\t\t: 2299.998\n",
            "cache size\t: 46080 KB\n",
            "physical id\t: 0\n",
            "siblings\t: 2\n",
            "core id\t\t: 0\n",
            "cpu cores\t: 1\n",
            "apicid\t\t: 0\n",
            "initial apicid\t: 0\n",
            "fpu\t\t: yes\n",
            "fpu_exception\t: yes\n",
            "cpuid level\t: 13\n",
            "wp\t\t: yes\n",
            "flags\t\t: fpu vme de pse tsc msr pae mce cx8 apic sep mtrr pge mca cmov pat pse36 clflush mmx fxsr sse sse2 ss ht syscall nx pdpe1gb rdtscp lm constant_tsc rep_good nopl xtopology nonstop_tsc cpuid tsc_known_freq pni pclmulqdq ssse3 fma cx16 pcid sse4_1 sse4_2 x2apic movbe popcnt aes xsave avx f16c rdrand hypervisor lahf_lm abm invpcid_single ssbd ibrs ibpb stibp fsgsbase tsc_adjust bmi1 avx2 smep bmi2 erms invpcid xsaveopt arat md_clear arch_capabilities\n",
            "bugs\t\t: cpu_meltdown spectre_v1 spectre_v2 spec_store_bypass l1tf mds swapgs\n",
            "bogomips\t: 4599.99\n",
            "clflush size\t: 64\n",
            "cache_alignment\t: 64\n",
            "address sizes\t: 46 bits physical, 48 bits virtual\n",
            "power management:\n",
            "\n",
            "processor\t: 1\n",
            "vendor_id\t: GenuineIntel\n",
            "cpu family\t: 6\n",
            "model\t\t: 63\n",
            "model name\t: Intel(R) Xeon(R) CPU @ 2.30GHz\n",
            "stepping\t: 0\n",
            "microcode\t: 0x1\n",
            "cpu MHz\t\t: 2299.998\n",
            "cache size\t: 46080 KB\n",
            "physical id\t: 0\n",
            "siblings\t: 2\n",
            "core id\t\t: 0\n",
            "cpu cores\t: 1\n",
            "apicid\t\t: 1\n",
            "initial apicid\t: 1\n",
            "fpu\t\t: yes\n",
            "fpu_exception\t: yes\n",
            "cpuid level\t: 13\n",
            "wp\t\t: yes\n",
            "flags\t\t: fpu vme de pse tsc msr pae mce cx8 apic sep mtrr pge mca cmov pat pse36 clflush mmx fxsr sse sse2 ss ht syscall nx pdpe1gb rdtscp lm constant_tsc rep_good nopl xtopology nonstop_tsc cpuid tsc_known_freq pni pclmulqdq ssse3 fma cx16 pcid sse4_1 sse4_2 x2apic movbe popcnt aes xsave avx f16c rdrand hypervisor lahf_lm abm invpcid_single ssbd ibrs ibpb stibp fsgsbase tsc_adjust bmi1 avx2 smep bmi2 erms invpcid xsaveopt arat md_clear arch_capabilities\n",
            "bugs\t\t: cpu_meltdown spectre_v1 spectre_v2 spec_store_bypass l1tf mds swapgs\n",
            "bogomips\t: 4599.99\n",
            "clflush size\t: 64\n",
            "cache_alignment\t: 64\n",
            "address sizes\t: 46 bits physical, 48 bits virtual\n",
            "power management:\n",
            "\n"
          ]
        }
      ]
    },
    {
      "cell_type": "code",
      "metadata": {
        "colab": {
          "base_uri": "https://localhost:8080/"
        },
        "id": "w8bmavhoB6W1",
        "outputId": "869c7346-627d-4708-8ac2-6f0c87efbb0e"
      },
      "source": [
        "!df -h"
      ],
      "execution_count": 6,
      "outputs": [
        {
          "output_type": "stream",
          "name": "stdout",
          "text": [
            "Filesystem      Size  Used Avail Use% Mounted on\n",
            "overlay          69G   38G   32G  55% /\n",
            "tmpfs            64M     0   64M   0% /dev\n",
            "tmpfs           6.4G     0  6.4G   0% /sys/fs/cgroup\n",
            "shm             5.8G     0  5.8G   0% /dev/shm\n",
            "tmpfs           6.4G   40K  6.4G   1% /var/colab\n",
            "/dev/sda1        76G   42G   35G  55% /opt/bin/.nvidia\n",
            "tmpfs           6.4G     0  6.4G   0% /proc/acpi\n",
            "tmpfs           6.4G     0  6.4G   0% /proc/scsi\n",
            "tmpfs           6.4G     0  6.4G   0% /sys/firmware\n"
          ]
        }
      ]
    },
    {
      "cell_type": "code",
      "metadata": {
        "colab": {
          "base_uri": "https://localhost:8080/"
        },
        "id": "y1AZwWsBB7pj",
        "outputId": "ad4854fc-a10b-4bd5-b000-6a218ec409aa"
      },
      "source": [
        "!nvidia-smi"
      ],
      "execution_count": 7,
      "outputs": [
        {
          "output_type": "stream",
          "name": "stdout",
          "text": [
            "Fri Sep  3 14:19:57 2021       \n",
            "+-----------------------------------------------------------------------------+\n",
            "| NVIDIA-SMI 470.63.01    Driver Version: 460.32.03    CUDA Version: 11.2     |\n",
            "|-------------------------------+----------------------+----------------------+\n",
            "| GPU  Name        Persistence-M| Bus-Id        Disp.A | Volatile Uncorr. ECC |\n",
            "| Fan  Temp  Perf  Pwr:Usage/Cap|         Memory-Usage | GPU-Util  Compute M. |\n",
            "|                               |                      |               MIG M. |\n",
            "|===============================+======================+======================|\n",
            "|   0  Tesla K80           Off  | 00000000:00:04.0 Off |                    0 |\n",
            "| N/A   47C    P0    61W / 149W |    121MiB / 11441MiB |      0%      Default |\n",
            "|                               |                      |                  N/A |\n",
            "+-------------------------------+----------------------+----------------------+\n",
            "                                                                               \n",
            "+-----------------------------------------------------------------------------+\n",
            "| Processes:                                                                  |\n",
            "|  GPU   GI   CI        PID   Type   Process name                  GPU Memory |\n",
            "|        ID   ID                                                   Usage      |\n",
            "|=============================================================================|\n",
            "|  No running processes found                                                 |\n",
            "+-----------------------------------------------------------------------------+\n"
          ]
        }
      ]
    },
    {
      "cell_type": "code",
      "metadata": {
        "colab": {
          "base_uri": "https://localhost:8080/"
        },
        "id": "ks8HjpKZB9LI",
        "outputId": "e79fe3cb-a971-4fbc-cf97-505a25a0f2ac"
      },
      "source": [
        "!python --version"
      ],
      "execution_count": 17,
      "outputs": [
        {
          "output_type": "stream",
          "name": "stdout",
          "text": [
            "Python 3.7.11\n"
          ]
        }
      ]
    },
    {
      "cell_type": "markdown",
      "metadata": {
        "id": "_fXwvxc4gw4M"
      },
      "source": [
        "# 수정이 필요한 작업(완료)\n",
        "- yolov5/data/cars.yaml\n",
        "- yolov5/data/hyps/hyp.scratch.yaml (default)\n",
        "- yolov5/model/yolov5s.yaml"
      ]
    },
    {
      "cell_type": "markdown",
      "metadata": {
        "id": "00SXf1B8b49U"
      },
      "source": [
        "## Data Config File\n",
        "모델을 학습시키려는 데이터셋에 대한 세부 정보는 데이터 구성 YAML 파일에 의해 정의됨.\n",
        "```python\n",
        "# 경로: yolov5/data/cars.yaml\n",
        "train: \"/content/gdrive/MyDrive/객체탐지/dataset/train.txt\"\n",
        "val: \"/content/gdrive/MyDrive/객체탐지/dataset/val.txt\"\n",
        "\n",
        "nc: 4\n",
        "names: [Vehicle_Car, Vehicle_Bus, Vehicle_Motorcycle, Vehicle_Unknown]\n",
        "```"
      ]
    },
    {
      "cell_type": "code",
      "metadata": {
        "id": "8DErX-xh_n8N"
      },
      "source": [
        "########## cars.yaml 파일 생성하는 작업##########\n",
        "%cd /content/gdrive/My Drive/객체탐지/yolov5\n",
        "\n",
        "########## 현재 cars.yaml파일 내용 확인##########\n",
        "import yaml\n",
        "with open('data/cars.yaml', 'r') as f:\n",
        "  data = yaml.load(f)\n",
        "\n",
        "print(data)"
      ],
      "execution_count": null,
      "outputs": []
    },
    {
      "cell_type": "code",
      "metadata": {
        "colab": {
          "base_uri": "https://localhost:8080/"
        },
        "id": "WKa21DYJQm0F",
        "outputId": "1f9a9125-c1ae-4a38-87e1-4053c2ea3b1d"
      },
      "source": [
        "########## train-val에 있는 데이터 목록 가져오기 ##########\n",
        "img_list = glob('../dataset/images/train/*')\n",
        "val_img_list = glob('../dataset/images/val/*')\n",
        "\n",
        "print(len(img_list))\n",
        "print(len(val_img_list)) "
      ],
      "execution_count": 91,
      "outputs": [
        {
          "output_type": "stream",
          "name": "stdout",
          "text": [
            "1854\n",
            "464\n"
          ]
        }
      ]
    },
    {
      "cell_type": "code",
      "metadata": {
        "id": "o0VzF3OeP2k3"
      },
      "source": [
        "########## 목록 리스트를 담은 텍스트 파일을 아래 경로에 생성 ##########\n",
        "with open('../dataset/train.txt', 'w') as f:\n",
        "  f.write('\\n'.join(img_list)+'\\n')\n",
        "\n",
        "with open('../dataset/val.txt', 'w') as f:\n",
        "  f.write('\\n'.join(val_img_list)+'\\n')"
      ],
      "execution_count": 92,
      "outputs": []
    },
    {
      "cell_type": "code",
      "metadata": {
        "id": "daEkNtWoR9T6",
        "colab": {
          "base_uri": "https://localhost:8080/"
        },
        "outputId": "1261fcdf-9d75-43ee-f0f1-8317f5b80392"
      },
      "source": [
        "########## cars.yaml 파일에 train-val 경로를 위에서 생성한 텍스트파일 경로로 수정해주면 cars.yaml파일 작업완료 ##########\n",
        "data['train'] = '/content/gdrive/MyDrive/객체탐지/dataset/train.txt'\n",
        "data['val'] = '/content/gdrive/MyDrive/객체탐지/dataset/val.txt'\n",
        "\n",
        "with open('/content/gdrive/MyDrive/객체탐지/yolov5/data/cars.yaml', 'w') as f:\n",
        "  yaml.dump(data, f)\n",
        "\n",
        "print(data)"
      ],
      "execution_count": 93,
      "outputs": [
        {
          "output_type": "stream",
          "name": "stdout",
          "text": [
            "{'train': '/content/gdrive/MyDrive/객체탐지/dataset/train.txt', 'val': '/content/gdrive/MyDrive/객체탐지/dataset/val.txt', 'nc': 4, 'names': ['Vehicle_Car', 'Vehicle_Bus', 'Vehicle_Motorcycle', 'Vehicle_Unknown']}\n"
          ]
        }
      ]
    },
    {
      "cell_type": "markdown",
      "metadata": {
        "id": "-L4l7oMjfHDf"
      },
      "source": [
        "## Hyper-parameter Config File\n",
        "하이퍼파라미터 구성 파일은 신경망의 하이퍼파라미터를 정의하는 데 도움이 된다. 우리는 기본 데이터/hyp.scratch.yaml을 사용하고 있다.\n",
        "```python\n",
        "#경로: yolov5/data/hyps/hyp.scratch.yaml\n",
        "# Hyperparameters for COCO training from scratch\n",
        "# python train.py --batch 40 --cfg yolov5m.yaml --weights '' --data coco.yaml --img 640 --epochs 300\n",
        "\n",
        "lr0: 0.01  # initial learning rate (SGD=1E-2, Adam=1E-3)\n",
        "lrf: 0.2  # final OneCycleLR learning rate (lr0 * lrf)\n",
        "momentum: 0.937  # SGD momentum/Adam beta1\n",
        "weight_decay: 0.0005  # optimizer weight decay 5e-4\n",
        "warmup_epochs: 3.0  # warmup epochs (fractions ok)\n",
        "warmup_momentum: 0.8  # warmup initial momentum\n",
        "warmup_bias_lr: 0.1  # warmup initial bias lr\n",
        "box: 0.05  # box loss gain\n",
        "cls: 0.5  # cls loss gain\n",
        "cls_pw: 1.0  # cls BCELoss positive_weight\n",
        "obj: 1.0  # obj loss gain (scale with pixels)\n",
        "obj_pw: 1.0  # obj BCELoss positive_weight\n",
        "iou_t: 0.20  # IoU training threshold\n",
        "anchor_t: 4.0  # anchor-multiple threshold\n",
        "# anchors: 3  # anchors per output layer (0 to ignore)\n",
        "fl_gamma: 0.0  # focal loss gamma (efficientDet default gamma=1.5)\n",
        "hsv_h: 0.015  # image HSV-Hue augmentation (fraction)\n",
        "hsv_s: 0.7  # image HSV-Saturation augmentation (fraction)\n",
        "hsv_v: 0.4  # image HSV-Value augmentation (fraction)\n",
        "degrees: 0.0  # image rotation (+/- deg)\n",
        "translate: 0.1  # image translation (+/- fraction)\n",
        "scale: 0.5  # image scale (+/- gain)\n",
        "shear: 0.0  # image shear (+/- deg)\n",
        "perspective: 0.0  # image perspective (+/- fraction), range 0-0.001\n",
        "flipud: 0.0  # image flip up-down (probability)\n",
        "fliplr: 0.5  # image flip left-right (probability)\n",
        "mosaic: 1.0  # image mosaic (probability)\n",
        "mixup: 0.0  # image mixup (probability)\n",
        "copy_paste: 0.0  # segment copy-paste (probability)\n",
        "```"
      ]
    },
    {
      "cell_type": "markdown",
      "metadata": {
        "id": "PUFZ5RTKf9xy"
      },
      "source": [
        "## Custom Network Architecture\n",
        "YOLOv5를 사용하면 미리 정의된 네트워크 중 사용자 지정 아키텍처 및 앵커를 정의할 수 있다. 이를 위해 사용자 정의 가중치 구성 파일을 정의해야 한다. 나는 가벼운 yolov5s.yaml을 사용했다. **주의: 클래스 갯수에 맞게 nc를 변경해줘야한다.**\n",
        "\n",
        "```python\n",
        "# 경로: yolov5/model/yolov5s.yaml\n",
        "# Parameters\n",
        "nc: 4  # number of classes\n",
        "depth_multiple: 0.33  # model depth multiple\n",
        "width_multiple: 0.50  # layer channel multiple\n",
        "anchors:\n",
        "  - [10,13, 16,30, 33,23]  # P3/8\n",
        "  - [30,61, 62,45, 59,119]  # P4/16\n",
        "  - [116,90, 156,198, 373,326]  # P5/32\n",
        "\n",
        "# YOLOv5 backbone\n",
        "backbone:\n",
        "  # [from, number, module, args]\n",
        "  [[-1, 1, Focus, [64, 3]],  # 0-P1/2\n",
        "   [-1, 1, Conv, [128, 3, 2]],  # 1-P2/4\n",
        "   [-1, 3, C3, [128]],\n",
        "   [-1, 1, Conv, [256, 3, 2]],  # 3-P3/8\n",
        "   [-1, 9, C3, [256]],\n",
        "   [-1, 1, Conv, [512, 3, 2]],  # 5-P4/16\n",
        "   [-1, 9, C3, [512]],\n",
        "   [-1, 1, Conv, [1024, 3, 2]],  # 7-P5/32\n",
        "   [-1, 1, SPP, [1024, [5, 9, 13]]],\n",
        "   [-1, 3, C3, [1024, False]],  # 9\n",
        "  ]\n",
        "\n",
        "# YOLOv5 head\n",
        "head:\n",
        "  [[-1, 1, Conv, [512, 1, 1]],\n",
        "   [-1, 1, nn.Upsample, [None, 2, 'nearest']],\n",
        "   [[-1, 6], 1, Concat, [1]],  # cat backbone P4\n",
        "   [-1, 3, C3, [512, False]],  # 13\n",
        "\n",
        "   [-1, 1, Conv, [256, 1, 1]],\n",
        "   [-1, 1, nn.Upsample, [None, 2, 'nearest']],\n",
        "   [[-1, 4], 1, Concat, [1]],  # cat backbone P3\n",
        "   [-1, 3, C3, [256, False]],  # 17 (P3/8-small)\n",
        "\n",
        "   [-1, 1, Conv, [256, 3, 2]],\n",
        "   [[-1, 14], 1, Concat, [1]],  # cat head P4\n",
        "   [-1, 3, C3, [512, False]],  # 20 (P4/16-medium)\n",
        "\n",
        "   [-1, 1, Conv, [512, 3, 2]],\n",
        "   [[-1, 10], 1, Concat, [1]],  # cat head P5\n",
        "   [-1, 3, C3, [1024, False]],  # 23 (P5/32-large)\n",
        "\n",
        "   [[17, 20, 23], 1, Detect, [nc, anchors]],  # Detect(P3, P4, P5)\n",
        "  ]\n",
        "```"
      ]
    },
    {
      "cell_type": "markdown",
      "metadata": {
        "id": "V98OIwu_S8Gv"
      },
      "source": [
        "# (실행2)Train the Model\n",
        "아직 데이터셋이 작고 이미지당 객체가 많지 않기 때문에 일을 단순하게 유지하고 과적합을 피하기 위해 가장 작은 pretrained모델 yolo5s부터 시작한다. 배치 크기는 32, 이미지 크기는 416을 유지하고 100 Epoch 동안 학습을 시켰다. 모델을 메모리에 맞추는 데 문제가 있는 경우:\n",
        "\n",
        "- 배치사이즈를 줄이거나(32 -> 4)\n",
        "- 더 작은 네트워크를 사용하거나\n",
        "- 이미지 사이즈를 줄여보는\n",
        "\n",
        "방법이 있다.\n",
        "\n",
        "```python\n",
        "!python train.py --img 416 --batch 32 --epochs 100 --data /content/gdrive/MyDrive/객체탐지/yolov5/data/cars.yaml --cfg ./models/yolov5s.yaml --weights yolov5s.pt --name yolov5_result\n",
        "#Logging results to runs/train/yolov5_result2\n",
        "```"
      ]
    },
    {
      "cell_type": "code",
      "metadata": {
        "colab": {
          "base_uri": "https://localhost:8080/"
        },
        "id": "Y0mlQO6YT9tS",
        "outputId": "3ca31747-53f6-4bac-db7d-bd1ea7635ea8"
      },
      "source": [
        "!python train.py --img 416 --batch 32 --epochs 100 --data /content/gdrive/MyDrive/객체탐지/yolov5/data/cars.yaml --cfg ./models/yolov5s.yaml --weights yolov5s.pt --name yolov5_result"
      ],
      "execution_count": null,
      "outputs": [
        {
          "output_type": "stream",
          "name": "stdout",
          "text": [
            "\u001b[34m\u001b[1mtrain: \u001b[0mweights=yolov5s.pt, cfg=./models/yolov5s.yaml, data=/content/gdrive/MyDrive/객체탐지/yolov5/data/cars.yaml, hyp=data/hyps/hyp.scratch.yaml, epochs=100, batch_size=32, imgsz=416, rect=False, resume=False, nosave=False, noval=False, noautoanchor=False, evolve=None, bucket=, cache=None, image_weights=False, device=, multi_scale=False, single_cls=False, adam=False, sync_bn=False, workers=8, project=runs/train, entity=None, name=yolov5_result, exist_ok=False, quad=False, linear_lr=False, label_smoothing=0.0, upload_dataset=False, bbox_interval=-1, save_period=-1, artifact_alias=latest, local_rank=-1, freeze=0, patience=30\n",
            "\u001b[34m\u001b[1mgithub: \u001b[0m⚠️ YOLOv5 is out of date by 2 commits. Use `git pull` or `git clone https://github.com/ultralytics/yolov5` to update.\n",
            "YOLOv5 🚀 2021-9-1 torch 1.9.0+cu102 CUDA:0 (Tesla K80, 11441.1875MB)\n",
            "\n",
            "\u001b[34m\u001b[1mhyperparameters: \u001b[0mlr0=0.01, lrf=0.2, momentum=0.937, weight_decay=0.0005, warmup_epochs=3.0, warmup_momentum=0.8, warmup_bias_lr=0.1, box=0.05, cls=0.5, cls_pw=1.0, obj=1.0, obj_pw=1.0, iou_t=0.2, anchor_t=4.0, fl_gamma=0.0, hsv_h=0.015, hsv_s=0.7, hsv_v=0.4, degrees=0.0, translate=0.1, scale=0.5, shear=0.0, perspective=0.0, flipud=0.0, fliplr=0.5, mosaic=1.0, mixup=0.0, copy_paste=0.0\n",
            "\u001b[34m\u001b[1mWeights & Biases: \u001b[0mrun 'pip install wandb' to automatically track and visualize YOLOv5 🚀 runs (RECOMMENDED)\n",
            "\u001b[34m\u001b[1mTensorBoard: \u001b[0mStart with 'tensorboard --logdir runs/train', view at http://localhost:6006/\n",
            "\n",
            "                 from  n    params  module                                  arguments                     \n",
            "  0                -1  1      3520  models.common.Focus                     [3, 32, 3]                    \n",
            "  1                -1  1     18560  models.common.Conv                      [32, 64, 3, 2]                \n",
            "  2                -1  1     18816  models.common.C3                        [64, 64, 1]                   \n",
            "  3                -1  1     73984  models.common.Conv                      [64, 128, 3, 2]               \n",
            "  4                -1  3    156928  models.common.C3                        [128, 128, 3]                 \n",
            "  5                -1  1    295424  models.common.Conv                      [128, 256, 3, 2]              \n",
            "  6                -1  3    625152  models.common.C3                        [256, 256, 3]                 \n",
            "  7                -1  1   1180672  models.common.Conv                      [256, 512, 3, 2]              \n",
            "  8                -1  1    656896  models.common.SPP                       [512, 512, [5, 9, 13]]        \n",
            "  9                -1  1   1182720  models.common.C3                        [512, 512, 1, False]          \n",
            " 10                -1  1    131584  models.common.Conv                      [512, 256, 1, 1]              \n",
            " 11                -1  1         0  torch.nn.modules.upsampling.Upsample    [None, 2, 'nearest']          \n",
            " 12           [-1, 6]  1         0  models.common.Concat                    [1]                           \n",
            " 13                -1  1    361984  models.common.C3                        [512, 256, 1, False]          \n",
            " 14                -1  1     33024  models.common.Conv                      [256, 128, 1, 1]              \n",
            " 15                -1  1         0  torch.nn.modules.upsampling.Upsample    [None, 2, 'nearest']          \n",
            " 16           [-1, 4]  1         0  models.common.Concat                    [1]                           \n",
            " 17                -1  1     90880  models.common.C3                        [256, 128, 1, False]          \n",
            " 18                -1  1    147712  models.common.Conv                      [128, 128, 3, 2]              \n",
            " 19          [-1, 14]  1         0  models.common.Concat                    [1]                           \n",
            " 20                -1  1    296448  models.common.C3                        [256, 256, 1, False]          \n",
            " 21                -1  1    590336  models.common.Conv                      [256, 256, 3, 2]              \n",
            " 22          [-1, 10]  1         0  models.common.Concat                    [1]                           \n",
            " 23                -1  1   1182720  models.common.C3                        [512, 512, 1, False]          \n",
            " 24      [17, 20, 23]  1     24273  models.yolo.Detect                      [4, [[10, 13, 16, 30, 33, 23], [30, 61, 62, 45, 59, 119], [116, 90, 156, 198, 373, 326]], [128, 256, 512]]\n",
            "Model Summary: 283 layers, 7071633 parameters, 7071633 gradients\n",
            "\n",
            "Transferred 354/362 items from yolov5s.pt\n",
            "Scaled weight_decay = 0.0005\n",
            "\u001b[34m\u001b[1moptimizer:\u001b[0m SGD with parameter groups 59 weight, 62 weight (no decay), 62 bias\n",
            "\u001b[34m\u001b[1malbumentations: \u001b[0mversion 1.0.3 required by YOLOv5, but version 0.1.12 is currently installed\n",
            "\u001b[34m\u001b[1mtrain: \u001b[0mScanning '/content/gdrive/MyDrive/객체탐지/dataset/train' images and labels...1854 found, 0 missing, 0 empty, 0 corrupted: 100% 1854/1854 [08:02<00:00,  3.84it/s]\n",
            "\u001b[34m\u001b[1mtrain: \u001b[0mWARNING: corrupt JPEG restored and saved ../dataset/images/train/Bright_20130218_135943_000000.jpg\n",
            "\u001b[34m\u001b[1mtrain: \u001b[0mWARNING: corrupt JPEG restored and saved ../dataset/images/train/Bright_20130218_135943_000015.jpg\n",
            "\u001b[34m\u001b[1mtrain: \u001b[0mWARNING: corrupt JPEG restored and saved ../dataset/images/train/Bright_20130218_135943_000300.jpg\n",
            "\u001b[34m\u001b[1mtrain: \u001b[0mWARNING: corrupt JPEG restored and saved ../dataset/images/train/Bright_20130218_135943_000465.jpg\n",
            "\u001b[34m\u001b[1mtrain: \u001b[0mWARNING: corrupt JPEG restored and saved ../dataset/images/train/Bright_20130218_135943_000480.jpg\n",
            "\u001b[34m\u001b[1mtrain: \u001b[0mWARNING: corrupt JPEG restored and saved ../dataset/images/train/Bright_20130218_135943_002295.jpg\n",
            "\u001b[34m\u001b[1mtrain: \u001b[0mWARNING: corrupt JPEG restored and saved ../dataset/images/train/Bright_20130218_135943_002355.jpg\n",
            "\u001b[34m\u001b[1mtrain: \u001b[0mWARNING: corrupt JPEG restored and saved ../dataset/images/train/Bright_20130218_135943_002370.jpg\n",
            "\u001b[34m\u001b[1mtrain: \u001b[0mWARNING: corrupt JPEG restored and saved ../dataset/images/train/Bright_20130218_135943_002385.jpg\n",
            "\u001b[34m\u001b[1mtrain: \u001b[0mWARNING: corrupt JPEG restored and saved ../dataset/images/train/Bright_20130218_140509_000000.jpg\n",
            "\u001b[34m\u001b[1mtrain: \u001b[0mWARNING: corrupt JPEG restored and saved ../dataset/images/train/Bright_20130218_140509_000015.jpg\n",
            "\u001b[34m\u001b[1mtrain: \u001b[0mWARNING: corrupt JPEG restored and saved ../dataset/images/train/Bright_20130218_140538_000015.jpg\n",
            "\u001b[34m\u001b[1mtrain: \u001b[0mWARNING: corrupt JPEG restored and saved ../dataset/images/train/Bright_20130218_140538_000000.jpg\n",
            "\u001b[34m\u001b[1mtrain: \u001b[0mWARNING: corrupt JPEG restored and saved ../dataset/images/train/Bright_20130218_140538_000030.jpg\n",
            "\u001b[34m\u001b[1mtrain: \u001b[0mWARNING: corrupt JPEG restored and saved ../dataset/images/train/Bright_20130218_140538_000045.jpg\n",
            "\u001b[34m\u001b[1mtrain: \u001b[0mWARNING: corrupt JPEG restored and saved ../dataset/images/train/Bright_20130218_140538_000075.jpg\n",
            "\u001b[34m\u001b[1mtrain: \u001b[0mWARNING: corrupt JPEG restored and saved ../dataset/images/train/Bright_20130218_140538_000060.jpg\n",
            "\u001b[34m\u001b[1mtrain: \u001b[0mWARNING: corrupt JPEG restored and saved ../dataset/images/train/Bright_20130218_140538_000090.jpg\n",
            "\u001b[34m\u001b[1mtrain: \u001b[0mWARNING: corrupt JPEG restored and saved ../dataset/images/train/Bright_20130218_140538_000105.jpg\n",
            "\u001b[34m\u001b[1mtrain: \u001b[0mWARNING: corrupt JPEG restored and saved ../dataset/images/train/Bright_20130218_140538_000135.jpg\n",
            "\u001b[34m\u001b[1mtrain: \u001b[0mWARNING: corrupt JPEG restored and saved ../dataset/images/train/Bright_20130218_140538_000150.jpg\n",
            "\u001b[34m\u001b[1mtrain: \u001b[0mWARNING: corrupt JPEG restored and saved ../dataset/images/train/Bright_20130218_140538_000165.jpg\n",
            "\u001b[34m\u001b[1mtrain: \u001b[0mWARNING: corrupt JPEG restored and saved ../dataset/images/train/Bright_20130218_140538_000180.jpg\n",
            "\u001b[34m\u001b[1mtrain: \u001b[0mWARNING: corrupt JPEG restored and saved ../dataset/images/train/Bright_20130218_140538_000210.jpg\n",
            "\u001b[34m\u001b[1mtrain: \u001b[0mWARNING: corrupt JPEG restored and saved ../dataset/images/train/Bright_20130218_140538_000225.jpg\n",
            "\u001b[34m\u001b[1mtrain: \u001b[0mWARNING: corrupt JPEG restored and saved ../dataset/images/train/Bright_20130218_140538_000240.jpg\n",
            "\u001b[34m\u001b[1mtrain: \u001b[0mWARNING: corrupt JPEG restored and saved ../dataset/images/train/Bright_20130218_140538_000255.jpg\n",
            "\u001b[34m\u001b[1mtrain: \u001b[0mWARNING: corrupt JPEG restored and saved ../dataset/images/train/Bright_20130218_140538_000270.jpg\n",
            "\u001b[34m\u001b[1mtrain: \u001b[0mWARNING: corrupt JPEG restored and saved ../dataset/images/train/Bright_20130218_140538_000285.jpg\n",
            "\u001b[34m\u001b[1mtrain: \u001b[0mWARNING: corrupt JPEG restored and saved ../dataset/images/train/Bright_20130218_140538_000345.jpg\n",
            "\u001b[34m\u001b[1mtrain: \u001b[0mWARNING: corrupt JPEG restored and saved ../dataset/images/train/Bright_20130218_140538_000390.jpg\n",
            "\u001b[34m\u001b[1mtrain: \u001b[0mWARNING: corrupt JPEG restored and saved ../dataset/images/train/Bright_20130218_140538_000375.jpg\n",
            "\u001b[34m\u001b[1mtrain: \u001b[0mWARNING: corrupt JPEG restored and saved ../dataset/images/train/Bright_20130218_140538_000435.jpg\n",
            "\u001b[34m\u001b[1mtrain: \u001b[0mWARNING: corrupt JPEG restored and saved ../dataset/images/train/Bright_20130218_140538_000540.jpg\n",
            "\u001b[34m\u001b[1mtrain: \u001b[0mWARNING: corrupt JPEG restored and saved ../dataset/images/train/Bright_20130218_140538_000555.jpg\n",
            "\u001b[34m\u001b[1mtrain: \u001b[0mWARNING: corrupt JPEG restored and saved ../dataset/images/train/Bright_20130218_140538_000645.jpg\n",
            "\u001b[34m\u001b[1mtrain: \u001b[0mWARNING: corrupt JPEG restored and saved ../dataset/images/train/Bright_20130218_150028_000015.jpg\n",
            "\u001b[34m\u001b[1mtrain: \u001b[0mWARNING: corrupt JPEG restored and saved ../dataset/images/train/Bright_20130218_150028_000030.jpg\n",
            "\u001b[34m\u001b[1mtrain: \u001b[0mWARNING: corrupt JPEG restored and saved ../dataset/images/train/Bright_20130218_150028_000045.jpg\n",
            "\u001b[34m\u001b[1mtrain: \u001b[0mWARNING: corrupt JPEG restored and saved ../dataset/images/train/Bright_20130218_150028_000075.jpg\n",
            "\u001b[34m\u001b[1mtrain: \u001b[0mWARNING: corrupt JPEG restored and saved ../dataset/images/train/Bright_20130218_150028_000090.jpg\n",
            "\u001b[34m\u001b[1mtrain: \u001b[0mWARNING: corrupt JPEG restored and saved ../dataset/images/train/Bright_20130218_150028_000105.jpg\n",
            "\u001b[34m\u001b[1mtrain: \u001b[0mWARNING: corrupt JPEG restored and saved ../dataset/images/train/Bright_20130218_150028_000135.jpg\n",
            "\u001b[34m\u001b[1mtrain: \u001b[0mWARNING: corrupt JPEG restored and saved ../dataset/images/train/Bright_20130218_150028_000150.jpg\n",
            "\u001b[34m\u001b[1mtrain: \u001b[0mWARNING: corrupt JPEG restored and saved ../dataset/images/train/Bright_20130218_150028_000165.jpg\n",
            "\u001b[34m\u001b[1mtrain: \u001b[0mWARNING: corrupt JPEG restored and saved ../dataset/images/train/Bright_20130218_150028_000180.jpg\n",
            "\u001b[34m\u001b[1mtrain: \u001b[0mWARNING: corrupt JPEG restored and saved ../dataset/images/train/Bright_20130218_150028_000240.jpg\n",
            "\u001b[34m\u001b[1mtrain: \u001b[0mWARNING: corrupt JPEG restored and saved ../dataset/images/train/Bright_20130218_150028_000210.jpg\n",
            "\u001b[34m\u001b[1mtrain: \u001b[0mWARNING: corrupt JPEG restored and saved ../dataset/images/train/Bright_20130218_150028_000255.jpg\n",
            "\u001b[34m\u001b[1mtrain: \u001b[0mWARNING: corrupt JPEG restored and saved ../dataset/images/train/Bright_20130218_150028_000345.jpg\n",
            "\u001b[34m\u001b[1mtrain: \u001b[0mWARNING: corrupt JPEG restored and saved ../dataset/images/train/Bright_20130218_150028_000360.jpg\n",
            "\u001b[34m\u001b[1mtrain: \u001b[0mWARNING: corrupt JPEG restored and saved ../dataset/images/train/Bright_20130218_150028_000390.jpg\n",
            "\u001b[34m\u001b[1mtrain: \u001b[0mWARNING: corrupt JPEG restored and saved ../dataset/images/train/Bright_20130218_150028_000405.jpg\n",
            "\u001b[34m\u001b[1mtrain: \u001b[0mWARNING: corrupt JPEG restored and saved ../dataset/images/train/Bright_20130218_150028_000420.jpg\n",
            "\u001b[34m\u001b[1mtrain: \u001b[0mWARNING: corrupt JPEG restored and saved ../dataset/images/train/Bright_20130218_150028_000435.jpg\n",
            "\u001b[34m\u001b[1mtrain: \u001b[0mWARNING: corrupt JPEG restored and saved ../dataset/images/train/Bright_20130218_150028_000450.jpg\n",
            "\u001b[34m\u001b[1mtrain: \u001b[0mWARNING: corrupt JPEG restored and saved ../dataset/images/train/Bright_20130218_150028_000480.jpg\n",
            "\u001b[34m\u001b[1mtrain: \u001b[0mWARNING: corrupt JPEG restored and saved ../dataset/images/train/Bright_20130218_150028_000465.jpg\n",
            "\u001b[34m\u001b[1mtrain: \u001b[0mWARNING: corrupt JPEG restored and saved ../dataset/images/train/Bright_20130218_150028_000495.jpg\n",
            "\u001b[34m\u001b[1mtrain: \u001b[0mWARNING: corrupt JPEG restored and saved ../dataset/images/train/Bright_20130218_150028_000510.jpg\n",
            "\u001b[34m\u001b[1mtrain: \u001b[0mWARNING: corrupt JPEG restored and saved ../dataset/images/train/Bright_20130218_150028_000540.jpg\n",
            "\u001b[34m\u001b[1mtrain: \u001b[0mWARNING: corrupt JPEG restored and saved ../dataset/images/train/Bright_20130218_150028_000570.jpg\n",
            "\u001b[34m\u001b[1mtrain: \u001b[0mWARNING: corrupt JPEG restored and saved ../dataset/images/train/Bright_20130218_150028_000585.jpg\n",
            "\u001b[34m\u001b[1mtrain: \u001b[0mWARNING: corrupt JPEG restored and saved ../dataset/images/train/Bright_20130218_150028_000615.jpg\n",
            "\u001b[34m\u001b[1mtrain: \u001b[0mWARNING: corrupt JPEG restored and saved ../dataset/images/train/Bright_20130218_150028_000645.jpg\n",
            "\u001b[34m\u001b[1mtrain: \u001b[0mWARNING: corrupt JPEG restored and saved ../dataset/images/train/Bright_20130218_150028_000660.jpg\n",
            "\u001b[34m\u001b[1mtrain: \u001b[0mWARNING: corrupt JPEG restored and saved ../dataset/images/train/Bright_20130218_150149_000015.jpg\n",
            "\u001b[34m\u001b[1mtrain: \u001b[0mWARNING: corrupt JPEG restored and saved ../dataset/images/train/Bright_20130218_150149_000030.jpg\n",
            "\u001b[34m\u001b[1mtrain: \u001b[0mWARNING: corrupt JPEG restored and saved ../dataset/images/train/Bright_20130218_150149_000045.jpg\n",
            "\u001b[34m\u001b[1mtrain: \u001b[0mWARNING: corrupt JPEG restored and saved ../dataset/images/train/Bright_20130218_150149_000060.jpg\n",
            "\u001b[34m\u001b[1mtrain: \u001b[0mWARNING: corrupt JPEG restored and saved ../dataset/images/train/Bright_20130218_150149_000090.jpg\n",
            "\u001b[34m\u001b[1mtrain: \u001b[0mWARNING: corrupt JPEG restored and saved ../dataset/images/train/Bright_20130218_150149_000105.jpg\n",
            "\u001b[34m\u001b[1mtrain: \u001b[0mWARNING: corrupt JPEG restored and saved ../dataset/images/train/Bright_20130218_150149_000120.jpg\n",
            "\u001b[34m\u001b[1mtrain: \u001b[0mWARNING: corrupt JPEG restored and saved ../dataset/images/train/Bright_20130218_150149_000135.jpg\n",
            "\u001b[34m\u001b[1mtrain: \u001b[0mWARNING: corrupt JPEG restored and saved ../dataset/images/train/Bright_20130218_150149_000165.jpg\n",
            "\u001b[34m\u001b[1mtrain: \u001b[0mWARNING: corrupt JPEG restored and saved ../dataset/images/train/Bright_20130218_150149_000180.jpg\n",
            "\u001b[34m\u001b[1mtrain: \u001b[0mWARNING: corrupt JPEG restored and saved ../dataset/images/train/Bright_20130218_150149_000195.jpg\n",
            "\u001b[34m\u001b[1mtrain: \u001b[0mWARNING: corrupt JPEG restored and saved ../dataset/images/train/Bright_20130218_150149_000225.jpg\n",
            "\u001b[34m\u001b[1mtrain: \u001b[0mWARNING: corrupt JPEG restored and saved ../dataset/images/train/Bright_20130218_150149_000255.jpg\n",
            "\u001b[34m\u001b[1mtrain: \u001b[0mWARNING: corrupt JPEG restored and saved ../dataset/images/train/Bright_20130218_150149_000270.jpg\n",
            "\u001b[34m\u001b[1mtrain: \u001b[0mWARNING: corrupt JPEG restored and saved ../dataset/images/train/Bright_20130218_150149_000300.jpg\n",
            "\u001b[34m\u001b[1mtrain: \u001b[0mWARNING: corrupt JPEG restored and saved ../dataset/images/train/Bright_20130218_150149_000330.jpg\n",
            "\u001b[34m\u001b[1mtrain: \u001b[0mWARNING: corrupt JPEG restored and saved ../dataset/images/train/Bright_20130218_150149_000285.jpg\n",
            "\u001b[34m\u001b[1mtrain: \u001b[0mWARNING: corrupt JPEG restored and saved ../dataset/images/train/Bright_20130218_150149_000375.jpg\n",
            "\u001b[34m\u001b[1mtrain: \u001b[0mWARNING: corrupt JPEG restored and saved ../dataset/images/train/Bright_20130218_150149_000405.jpg\n",
            "\u001b[34m\u001b[1mtrain: \u001b[0mWARNING: corrupt JPEG restored and saved ../dataset/images/train/Bright_20130218_150149_000420.jpg\n",
            "\u001b[34m\u001b[1mtrain: \u001b[0mWARNING: corrupt JPEG restored and saved ../dataset/images/train/Bright_20130218_150149_000435.jpg\n",
            "\u001b[34m\u001b[1mtrain: \u001b[0mWARNING: corrupt JPEG restored and saved ../dataset/images/train/Bright_20130218_150149_000360.jpg\n",
            "\u001b[34m\u001b[1mtrain: \u001b[0mWARNING: corrupt JPEG restored and saved ../dataset/images/train/Bright_20130218_150149_000480.jpg\n",
            "\u001b[34m\u001b[1mtrain: \u001b[0mWARNING: corrupt JPEG restored and saved ../dataset/images/train/Bright_20130218_150149_000495.jpg\n",
            "\u001b[34m\u001b[1mtrain: \u001b[0mWARNING: corrupt JPEG restored and saved ../dataset/images/train/Bright_20130218_150149_000540.jpg\n",
            "\u001b[34m\u001b[1mtrain: \u001b[0mWARNING: corrupt JPEG restored and saved ../dataset/images/train/Bright_20130218_150149_000450.jpg\n",
            "\u001b[34m\u001b[1mtrain: \u001b[0mWARNING: corrupt JPEG restored and saved ../dataset/images/train/Bright_20130218_150149_000615.jpg\n",
            "\u001b[34m\u001b[1mtrain: \u001b[0mWARNING: corrupt JPEG restored and saved ../dataset/images/train/Bright_20130218_150149_000630.jpg\n",
            "\u001b[34m\u001b[1mtrain: \u001b[0mWARNING: corrupt JPEG restored and saved ../dataset/images/train/Bright_20130218_150149_000660.jpg\n",
            "\u001b[34m\u001b[1mtrain: \u001b[0mWARNING: corrupt JPEG restored and saved ../dataset/images/train/Bright_20130218_150149_000600.jpg\n",
            "\u001b[34m\u001b[1mtrain: \u001b[0mWARNING: corrupt JPEG restored and saved ../dataset/images/train/Bright_20130218_150149_000675.jpg\n",
            "\u001b[34m\u001b[1mtrain: \u001b[0mWARNING: corrupt JPEG restored and saved ../dataset/images/train/Bright_20130218_150149_000765.jpg\n",
            "\u001b[34m\u001b[1mtrain: \u001b[0mWARNING: corrupt JPEG restored and saved ../dataset/images/train/Bright_20130218_150149_000780.jpg\n",
            "\u001b[34m\u001b[1mtrain: \u001b[0mWARNING: corrupt JPEG restored and saved ../dataset/images/train/Bright_20130218_150149_000750.jpg\n",
            "\u001b[34m\u001b[1mtrain: \u001b[0mWARNING: corrupt JPEG restored and saved ../dataset/images/train/Bright_20130218_150149_000810.jpg\n",
            "\u001b[34m\u001b[1mtrain: \u001b[0mWARNING: corrupt JPEG restored and saved ../dataset/images/train/Bright_20130218_150149_000795.jpg\n",
            "\u001b[34m\u001b[1mtrain: \u001b[0mWARNING: corrupt JPEG restored and saved ../dataset/images/train/Bright_20130218_150149_001335.jpg\n",
            "\u001b[34m\u001b[1mtrain: \u001b[0mWARNING: corrupt JPEG restored and saved ../dataset/images/train/Bright_20130218_153000_000045.jpg\n",
            "\u001b[34m\u001b[1mtrain: \u001b[0mWARNING: corrupt JPEG restored and saved ../dataset/images/train/Bright_20130218_153000_000015.jpg\n",
            "\u001b[34m\u001b[1mtrain: \u001b[0mWARNING: corrupt JPEG restored and saved ../dataset/images/train/Bright_20130218_153000_000060.jpg\n",
            "\u001b[34m\u001b[1mtrain: \u001b[0mWARNING: corrupt JPEG restored and saved ../dataset/images/train/Bright_20130218_153000_000075.jpg\n",
            "\u001b[34m\u001b[1mtrain: \u001b[0mWARNING: corrupt JPEG restored and saved ../dataset/images/train/Bright_20130218_153000_000090.jpg\n",
            "\u001b[34m\u001b[1mtrain: \u001b[0mWARNING: corrupt JPEG restored and saved ../dataset/images/train/Bright_20130218_153000_000105.jpg\n",
            "\u001b[34m\u001b[1mtrain: \u001b[0mWARNING: corrupt JPEG restored and saved ../dataset/images/train/Bright_20130218_153000_000120.jpg\n",
            "\u001b[34m\u001b[1mtrain: \u001b[0mWARNING: corrupt JPEG restored and saved ../dataset/images/train/Bright_20130218_153000_000195.jpg\n",
            "\u001b[34m\u001b[1mtrain: \u001b[0mWARNING: corrupt JPEG restored and saved ../dataset/images/train/Bright_20130218_153000_000210.jpg\n",
            "\u001b[34m\u001b[1mtrain: \u001b[0mWARNING: corrupt JPEG restored and saved ../dataset/images/train/Bright_20130218_153000_000405.jpg\n",
            "\u001b[34m\u001b[1mtrain: \u001b[0mWARNING: corrupt JPEG restored and saved ../dataset/images/train/Bright_20130218_153000_000450.jpg\n",
            "\u001b[34m\u001b[1mtrain: \u001b[0mWARNING: corrupt JPEG restored and saved ../dataset/images/train/Bright_20130218_153000_000465.jpg\n",
            "\u001b[34m\u001b[1mtrain: \u001b[0mWARNING: corrupt JPEG restored and saved ../dataset/images/train/Bright_20130218_153000_000525.jpg\n",
            "\u001b[34m\u001b[1mtrain: \u001b[0mWARNING: corrupt JPEG restored and saved ../dataset/images/train/Bright_20130218_153000_000540.jpg\n",
            "\u001b[34m\u001b[1mtrain: \u001b[0mWARNING: corrupt JPEG restored and saved ../dataset/images/train/Bright_20130218_153000_000555.jpg\n",
            "\u001b[34m\u001b[1mtrain: \u001b[0mWARNING: corrupt JPEG restored and saved ../dataset/images/train/Bright_20130218_153000_000600.jpg\n",
            "\u001b[34m\u001b[1mtrain: \u001b[0mWARNING: corrupt JPEG restored and saved ../dataset/images/train/Bright_20130218_153000_000585.jpg\n",
            "\u001b[34m\u001b[1mtrain: \u001b[0mWARNING: corrupt JPEG restored and saved ../dataset/images/train/Bright_20130218_153000_000615.jpg\n",
            "\u001b[34m\u001b[1mtrain: \u001b[0mWARNING: corrupt JPEG restored and saved ../dataset/images/train/Bright_20130218_153000_000630.jpg\n",
            "\u001b[34m\u001b[1mtrain: \u001b[0mWARNING: corrupt JPEG restored and saved ../dataset/images/train/Bright_20130218_153000_000645.jpg\n",
            "\u001b[34m\u001b[1mtrain: \u001b[0mWARNING: corrupt JPEG restored and saved ../dataset/images/train/Bright_20130218_153000_000660.jpg\n",
            "\u001b[34m\u001b[1mtrain: \u001b[0mWARNING: corrupt JPEG restored and saved ../dataset/images/train/Bright_20130218_153000_000675.jpg\n",
            "\u001b[34m\u001b[1mtrain: \u001b[0mWARNING: corrupt JPEG restored and saved ../dataset/images/train/Bright_20130218_153000_000690.jpg\n",
            "\u001b[34m\u001b[1mtrain: \u001b[0mWARNING: corrupt JPEG restored and saved ../dataset/images/train/Bright_20130218_153000_000720.jpg\n",
            "\u001b[34m\u001b[1mtrain: \u001b[0mWARNING: corrupt JPEG restored and saved ../dataset/images/train/Bright_20130218_153000_000735.jpg\n",
            "\u001b[34m\u001b[1mtrain: \u001b[0mWARNING: corrupt JPEG restored and saved ../dataset/images/train/Bright_20130218_153000_000765.jpg\n",
            "\u001b[34m\u001b[1mtrain: \u001b[0mWARNING: corrupt JPEG restored and saved ../dataset/images/train/Bright_20130218_153000_000780.jpg\n",
            "\u001b[34m\u001b[1mtrain: \u001b[0mWARNING: corrupt JPEG restored and saved ../dataset/images/train/Bright_20130218_153000_000795.jpg\n",
            "\u001b[34m\u001b[1mtrain: \u001b[0mWARNING: corrupt JPEG restored and saved ../dataset/images/train/Bright_20130218_153000_000810.jpg\n",
            "\u001b[34m\u001b[1mtrain: \u001b[0mWARNING: corrupt JPEG restored and saved ../dataset/images/train/Bright_20130218_153000_000855.jpg\n",
            "\u001b[34m\u001b[1mtrain: \u001b[0mWARNING: corrupt JPEG restored and saved ../dataset/images/train/Bright_20130218_153000_000870.jpg\n",
            "\u001b[34m\u001b[1mtrain: \u001b[0mWARNING: corrupt JPEG restored and saved ../dataset/images/train/Bright_20130218_153000_000885.jpg\n",
            "\u001b[34m\u001b[1mtrain: \u001b[0mWARNING: corrupt JPEG restored and saved ../dataset/images/train/Bright_20130218_153000_000915.jpg\n",
            "\u001b[34m\u001b[1mtrain: \u001b[0mWARNING: corrupt JPEG restored and saved ../dataset/images/train/Bright_20130218_153000_000930.jpg\n",
            "\u001b[34m\u001b[1mtrain: \u001b[0mWARNING: corrupt JPEG restored and saved ../dataset/images/train/Bright_20130218_153000_000945.jpg\n",
            "\u001b[34m\u001b[1mtrain: \u001b[0mWARNING: corrupt JPEG restored and saved ../dataset/images/train/Bright_20130218_153000_000975.jpg\n",
            "\u001b[34m\u001b[1mtrain: \u001b[0mWARNING: corrupt JPEG restored and saved ../dataset/images/train/Bright_20130218_153000_000990.jpg\n",
            "\u001b[34m\u001b[1mtrain: \u001b[0mWARNING: corrupt JPEG restored and saved ../dataset/images/train/Bright_20130218_153000_001035.jpg\n",
            "\u001b[34m\u001b[1mtrain: \u001b[0mWARNING: corrupt JPEG restored and saved ../dataset/images/train/Bright_20130218_153000_001140.jpg\n",
            "\u001b[34m\u001b[1mtrain: \u001b[0mWARNING: corrupt JPEG restored and saved ../dataset/images/train/Bright_20130218_153000_001125.jpg\n",
            "\u001b[34m\u001b[1mtrain: \u001b[0mWARNING: corrupt JPEG restored and saved ../dataset/images/train/Bright_20130218_153000_001155.jpg\n",
            "\u001b[34m\u001b[1mtrain: \u001b[0mWARNING: corrupt JPEG restored and saved ../dataset/images/train/Bright_20130218_153000_001170.jpg\n",
            "\u001b[34m\u001b[1mtrain: \u001b[0mWARNING: corrupt JPEG restored and saved ../dataset/images/train/Bright_20130218_153000_001185.jpg\n",
            "\u001b[34m\u001b[1mtrain: \u001b[0mWARNING: corrupt JPEG restored and saved ../dataset/images/train/Bright_20130218_153000_001200.jpg\n",
            "\u001b[34m\u001b[1mtrain: \u001b[0mWARNING: corrupt JPEG restored and saved ../dataset/images/train/Bright_20130218_153000_001215.jpg\n",
            "\u001b[34m\u001b[1mtrain: \u001b[0mWARNING: corrupt JPEG restored and saved ../dataset/images/train/Bright_20130218_153000_001230.jpg\n",
            "\u001b[34m\u001b[1mtrain: \u001b[0mWARNING: corrupt JPEG restored and saved ../dataset/images/train/Bright_20130218_153000_001245.jpg\n",
            "\u001b[34m\u001b[1mtrain: \u001b[0mWARNING: corrupt JPEG restored and saved ../dataset/images/train/Bright_20130218_153248_000090.jpg\n",
            "\u001b[34m\u001b[1mtrain: \u001b[0mWARNING: corrupt JPEG restored and saved ../dataset/images/train/Bright_20130218_153731_000135.jpg\n",
            "\u001b[34m\u001b[1mtrain: \u001b[0mWARNING: corrupt JPEG restored and saved ../dataset/images/train/Bright_20130218_153731_000645.jpg\n",
            "\u001b[34m\u001b[1mtrain: \u001b[0mWARNING: corrupt JPEG restored and saved ../dataset/images/train/Bright_20130218_153731_000690.jpg\n",
            "\u001b[34m\u001b[1mtrain: \u001b[0mWARNING: corrupt JPEG restored and saved ../dataset/images/train/Bright_20130218_153731_000810.jpg\n",
            "\u001b[34m\u001b[1mtrain: \u001b[0mWARNING: corrupt JPEG restored and saved ../dataset/images/train/Bright_20130218_153731_001095.jpg\n",
            "\u001b[34m\u001b[1mtrain: \u001b[0mWARNING: corrupt JPEG restored and saved ../dataset/images/train/Bright_20130218_153731_001455.jpg\n",
            "\u001b[34m\u001b[1mtrain: \u001b[0mWARNING: corrupt JPEG restored and saved ../dataset/images/train/Bright_20130218_153731_001500.jpg\n",
            "\u001b[34m\u001b[1mtrain: \u001b[0mWARNING: corrupt JPEG restored and saved ../dataset/images/train/Bright_20130218_153731_001515.jpg\n",
            "\u001b[34m\u001b[1mtrain: \u001b[0mWARNING: corrupt JPEG restored and saved ../dataset/images/train/Bright_20130218_153731_001665.jpg\n",
            "\u001b[34m\u001b[1mtrain: \u001b[0mWARNING: corrupt JPEG restored and saved ../dataset/images/train/Bright_20130218_153731_001695.jpg\n",
            "\u001b[34m\u001b[1mtrain: \u001b[0mWARNING: corrupt JPEG restored and saved ../dataset/images/train/Bright_20130218_153731_001680.jpg\n",
            "\u001b[34m\u001b[1mtrain: \u001b[0mWARNING: corrupt JPEG restored and saved ../dataset/images/train/Bright_20130218_153731_001725.jpg\n",
            "\u001b[34m\u001b[1mtrain: \u001b[0mWARNING: corrupt JPEG restored and saved ../dataset/images/train/Bright_20130218_153731_001710.jpg\n",
            "\u001b[34m\u001b[1mtrain: \u001b[0mWARNING: corrupt JPEG restored and saved ../dataset/images/train/Bright_20130218_153731_001755.jpg\n",
            "\u001b[34m\u001b[1mtrain: \u001b[0mWARNING: corrupt JPEG restored and saved ../dataset/images/train/Bright_20130218_153731_001770.jpg\n",
            "\u001b[34m\u001b[1mtrain: \u001b[0mWARNING: corrupt JPEG restored and saved ../dataset/images/train/Bright_20130218_153731_001815.jpg\n",
            "\u001b[34m\u001b[1mtrain: \u001b[0mWARNING: corrupt JPEG restored and saved ../dataset/images/train/Bright_20130218_153731_001845.jpg\n",
            "\u001b[34m\u001b[1mtrain: \u001b[0mWARNING: corrupt JPEG restored and saved ../dataset/images/train/Bright_20130218_153731_001860.jpg\n",
            "\u001b[34m\u001b[1mtrain: \u001b[0mWARNING: corrupt JPEG restored and saved ../dataset/images/train/Bright_20130218_153731_002070.jpg\n",
            "\u001b[34m\u001b[1mtrain: \u001b[0mWARNING: corrupt JPEG restored and saved ../dataset/images/train/Bright_20130218_153731_002220.jpg\n",
            "\u001b[34m\u001b[1mtrain: \u001b[0mWARNING: corrupt JPEG restored and saved ../dataset/images/train/Bright_20130218_153731_002250.jpg\n",
            "\u001b[34m\u001b[1mtrain: \u001b[0mWARNING: corrupt JPEG restored and saved ../dataset/images/train/Bright_20130218_154334_000150.jpg\n",
            "\u001b[34m\u001b[1mtrain: \u001b[0mWARNING: corrupt JPEG restored and saved ../dataset/images/train/Bright_20130218_154334_000180.jpg\n",
            "\u001b[34m\u001b[1mtrain: \u001b[0mWARNING: corrupt JPEG restored and saved ../dataset/images/train/Bright_20130218_154334_000195.jpg\n",
            "\u001b[34m\u001b[1mtrain: \u001b[0mWARNING: corrupt JPEG restored and saved ../dataset/images/train/Bright_20130218_154334_000210.jpg\n",
            "\u001b[34m\u001b[1mtrain: \u001b[0mWARNING: corrupt JPEG restored and saved ../dataset/images/train/Bright_20130218_154334_000240.jpg\n",
            "\u001b[34m\u001b[1mtrain: \u001b[0mWARNING: corrupt JPEG restored and saved ../dataset/images/train/Bright_20130218_154334_000285.jpg\n",
            "\u001b[34m\u001b[1mtrain: \u001b[0mWARNING: corrupt JPEG restored and saved ../dataset/images/train/Bright_20130218_161100_000135.jpg\n",
            "\u001b[34m\u001b[1mtrain: \u001b[0mWARNING: corrupt JPEG restored and saved ../dataset/images/train/Bright_20130218_161149_000015.jpg\n",
            "\u001b[34m\u001b[1mtrain: \u001b[0mWARNING: corrupt JPEG restored and saved ../dataset/images/train/Bright_20130218_161149_000030.jpg\n",
            "\u001b[34m\u001b[1mtrain: \u001b[0mWARNING: corrupt JPEG restored and saved ../dataset/images/train/Bright_20130218_161149_000045.jpg\n",
            "\u001b[34m\u001b[1mtrain: \u001b[0mWARNING: corrupt JPEG restored and saved ../dataset/images/train/Bright_20130218_161149_000060.jpg\n",
            "\u001b[34m\u001b[1mtrain: \u001b[0mWARNING: corrupt JPEG restored and saved ../dataset/images/train/Bright_20130218_161149_000435.jpg\n",
            "\u001b[34m\u001b[1mtrain: \u001b[0mWARNING: corrupt JPEG restored and saved ../dataset/images/train/Bright_20130218_162016_001215.jpg\n",
            "\u001b[34m\u001b[1mtrain: \u001b[0mWARNING: corrupt JPEG restored and saved ../dataset/images/train/Bright_20130218_162016_001230.jpg\n",
            "\u001b[34m\u001b[1mtrain: \u001b[0mWARNING: corrupt JPEG restored and saved ../dataset/images/train/Bright_20130218_162016_001410.jpg\n",
            "\u001b[34m\u001b[1mtrain: \u001b[0mWARNING: corrupt JPEG restored and saved ../dataset/images/train/Bright_20130218_162016_001425.jpg\n",
            "\u001b[34m\u001b[1mtrain: \u001b[0mWARNING: corrupt JPEG restored and saved ../dataset/images/train/Bright_20130218_162016_001440.jpg\n",
            "\u001b[34m\u001b[1mtrain: \u001b[0mWARNING: corrupt JPEG restored and saved ../dataset/images/train/Bright_20130218_162016_001470.jpg\n",
            "\u001b[34m\u001b[1mtrain: \u001b[0mWARNING: corrupt JPEG restored and saved ../dataset/images/train/Bright_20130218_162016_001485.jpg\n",
            "\u001b[34m\u001b[1mtrain: \u001b[0mWARNING: corrupt JPEG restored and saved ../dataset/images/train/Bright_20130218_162016_001500.jpg\n",
            "\u001b[34m\u001b[1mtrain: \u001b[0mWARNING: corrupt JPEG restored and saved ../dataset/images/train/Bright_20130218_162016_001515.jpg\n",
            "\u001b[34m\u001b[1mtrain: \u001b[0mWARNING: corrupt JPEG restored and saved ../dataset/images/train/Bright_20130218_162016_001530.jpg\n",
            "\u001b[34m\u001b[1mtrain: \u001b[0mWARNING: corrupt JPEG restored and saved ../dataset/images/train/Bright_20130218_162016_001575.jpg\n",
            "\u001b[34m\u001b[1mtrain: \u001b[0mWARNING: corrupt JPEG restored and saved ../dataset/images/train/Bright_20130218_162016_001560.jpg\n",
            "\u001b[34m\u001b[1mtrain: \u001b[0mWARNING: corrupt JPEG restored and saved ../dataset/images/train/Bright_20130218_162016_001605.jpg\n",
            "\u001b[34m\u001b[1mtrain: \u001b[0mWARNING: corrupt JPEG restored and saved ../dataset/images/train/Bright_20130218_162016_001620.jpg\n",
            "\u001b[34m\u001b[1mtrain: \u001b[0mWARNING: corrupt JPEG restored and saved ../dataset/images/train/Bright_20130218_162016_001650.jpg\n",
            "\u001b[34m\u001b[1mtrain: \u001b[0mWARNING: corrupt JPEG restored and saved ../dataset/images/train/Bright_20130218_162016_001665.jpg\n",
            "\u001b[34m\u001b[1mtrain: \u001b[0mWARNING: corrupt JPEG restored and saved ../dataset/images/train/Bright_20130218_162016_001695.jpg\n",
            "\u001b[34m\u001b[1mtrain: \u001b[0mWARNING: corrupt JPEG restored and saved ../dataset/images/train/Bright_20130218_162016_001710.jpg\n",
            "\u001b[34m\u001b[1mtrain: \u001b[0mWARNING: corrupt JPEG restored and saved ../dataset/images/train/Bright_20130218_162016_001755.jpg\n",
            "\u001b[34m\u001b[1mtrain: \u001b[0mWARNING: corrupt JPEG restored and saved ../dataset/images/train/Bright_20130218_162016_001770.jpg\n",
            "\u001b[34m\u001b[1mtrain: \u001b[0mNew cache created: /content/gdrive/MyDrive/객체탐지/dataset/train.cache\n",
            "\u001b[34m\u001b[1mval: \u001b[0mScanning '/content/gdrive/MyDrive/객체탐지/dataset/val' images and labels...464 found, 0 missing, 0 empty, 0 corrupted: 100% 464/464 [01:51<00:00,  4.16it/s]\n",
            "\u001b[34m\u001b[1mval: \u001b[0mWARNING: corrupt JPEG restored and saved ../dataset/images/val/Bright_20130218_135943_000450.jpg\n",
            "\u001b[34m\u001b[1mval: \u001b[0mWARNING: corrupt JPEG restored and saved ../dataset/images/val/Bright_20130218_135943_002250.jpg\n",
            "\u001b[34m\u001b[1mval: \u001b[0mWARNING: corrupt JPEG restored and saved ../dataset/images/val/Bright_20130218_135943_002325.jpg\n",
            "\u001b[34m\u001b[1mval: \u001b[0mWARNING: corrupt JPEG restored and saved ../dataset/images/val/Bright_20130218_135943_002310.jpg\n",
            "\u001b[34m\u001b[1mval: \u001b[0mWARNING: corrupt JPEG restored and saved ../dataset/images/val/Bright_20130218_140538_000120.jpg\n",
            "\u001b[34m\u001b[1mval: \u001b[0mWARNING: corrupt JPEG restored and saved ../dataset/images/val/Bright_20130218_140538_000195.jpg\n",
            "\u001b[34m\u001b[1mval: \u001b[0mWARNING: corrupt JPEG restored and saved ../dataset/images/val/Bright_20130218_140538_000405.jpg\n",
            "\u001b[34m\u001b[1mval: \u001b[0mWARNING: corrupt JPEG restored and saved ../dataset/images/val/Bright_20130218_140538_000525.jpg\n",
            "\u001b[34m\u001b[1mval: \u001b[0mWARNING: corrupt JPEG restored and saved ../dataset/images/val/Bright_20130218_150028_000000.jpg\n",
            "\u001b[34m\u001b[1mval: \u001b[0mWARNING: corrupt JPEG restored and saved ../dataset/images/val/Bright_20130218_150028_000225.jpg\n",
            "\u001b[34m\u001b[1mval: \u001b[0mWARNING: corrupt JPEG restored and saved ../dataset/images/val/Bright_20130218_150028_000120.jpg\n",
            "\u001b[34m\u001b[1mval: \u001b[0mWARNING: corrupt JPEG restored and saved ../dataset/images/val/Bright_20130218_150028_000270.jpg\n",
            "\u001b[34m\u001b[1mval: \u001b[0mWARNING: corrupt JPEG restored and saved ../dataset/images/val/Bright_20130218_150028_000285.jpg\n",
            "\u001b[34m\u001b[1mval: \u001b[0mWARNING: corrupt JPEG restored and saved ../dataset/images/val/Bright_20130218_150028_000300.jpg\n",
            "\u001b[34m\u001b[1mval: \u001b[0mWARNING: corrupt JPEG restored and saved ../dataset/images/val/Bright_20130218_150028_000315.jpg\n",
            "\u001b[34m\u001b[1mval: \u001b[0mWARNING: corrupt JPEG restored and saved ../dataset/images/val/Bright_20130218_150028_000375.jpg\n",
            "\u001b[34m\u001b[1mval: \u001b[0mWARNING: corrupt JPEG restored and saved ../dataset/images/val/Bright_20130218_150028_000330.jpg\n",
            "\u001b[34m\u001b[1mval: \u001b[0mWARNING: corrupt JPEG restored and saved ../dataset/images/val/Bright_20130218_150028_000600.jpg\n",
            "\u001b[34m\u001b[1mval: \u001b[0mWARNING: corrupt JPEG restored and saved ../dataset/images/val/Bright_20130218_150028_000630.jpg\n",
            "\u001b[34m\u001b[1mval: \u001b[0mWARNING: corrupt JPEG restored and saved ../dataset/images/val/Bright_20130218_150149_000075.jpg\n",
            "\u001b[34m\u001b[1mval: \u001b[0mWARNING: corrupt JPEG restored and saved ../dataset/images/val/Bright_20130218_150149_000150.jpg\n",
            "\u001b[34m\u001b[1mval: \u001b[0mWARNING: corrupt JPEG restored and saved ../dataset/images/val/Bright_20130218_150149_000210.jpg\n",
            "\u001b[34m\u001b[1mval: \u001b[0mWARNING: corrupt JPEG restored and saved ../dataset/images/val/Bright_20130218_150149_000240.jpg\n",
            "\u001b[34m\u001b[1mval: \u001b[0mWARNING: corrupt JPEG restored and saved ../dataset/images/val/Bright_20130218_150149_000315.jpg\n",
            "\u001b[34m\u001b[1mval: \u001b[0mWARNING: corrupt JPEG restored and saved ../dataset/images/val/Bright_20130218_150149_000345.jpg\n",
            "\u001b[34m\u001b[1mval: \u001b[0mWARNING: corrupt JPEG restored and saved ../dataset/images/val/Bright_20130218_150149_000390.jpg\n",
            "\u001b[34m\u001b[1mval: \u001b[0mWARNING: corrupt JPEG restored and saved ../dataset/images/val/Bright_20130218_150149_000465.jpg\n",
            "\u001b[34m\u001b[1mval: \u001b[0mWARNING: corrupt JPEG restored and saved ../dataset/images/val/Bright_20130218_150149_000525.jpg\n",
            "\u001b[34m\u001b[1mval: \u001b[0mWARNING: corrupt JPEG restored and saved ../dataset/images/val/Bright_20130218_153000_000000.jpg\n",
            "\u001b[34m\u001b[1mval: \u001b[0mWARNING: corrupt JPEG restored and saved ../dataset/images/val/Bright_20130218_153000_000030.jpg\n",
            "\u001b[34m\u001b[1mval: \u001b[0mWARNING: corrupt JPEG restored and saved ../dataset/images/val/Bright_20130218_153000_000135.jpg\n",
            "\u001b[34m\u001b[1mval: \u001b[0mWARNING: corrupt JPEG restored and saved ../dataset/images/val/Bright_20130218_153000_000180.jpg\n",
            "\u001b[34m\u001b[1mval: \u001b[0mWARNING: corrupt JPEG restored and saved ../dataset/images/val/Bright_20130218_153000_000390.jpg\n",
            "\u001b[34m\u001b[1mval: \u001b[0mWARNING: corrupt JPEG restored and saved ../dataset/images/val/Bright_20130218_153000_000420.jpg\n",
            "\u001b[34m\u001b[1mval: \u001b[0mWARNING: corrupt JPEG restored and saved ../dataset/images/val/Bright_20130218_153000_000480.jpg\n",
            "\u001b[34m\u001b[1mval: \u001b[0mWARNING: corrupt JPEG restored and saved ../dataset/images/val/Bright_20130218_153000_000495.jpg\n",
            "\u001b[34m\u001b[1mval: \u001b[0mWARNING: corrupt JPEG restored and saved ../dataset/images/val/Bright_20130218_153000_000510.jpg\n",
            "\u001b[34m\u001b[1mval: \u001b[0mWARNING: corrupt JPEG restored and saved ../dataset/images/val/Bright_20130218_153000_000705.jpg\n",
            "\u001b[34m\u001b[1mval: \u001b[0mWARNING: corrupt JPEG restored and saved ../dataset/images/val/Bright_20130218_153000_000570.jpg\n",
            "\u001b[34m\u001b[1mval: \u001b[0mWARNING: corrupt JPEG restored and saved ../dataset/images/val/Bright_20130218_153000_000750.jpg\n",
            "\u001b[34m\u001b[1mval: \u001b[0mWARNING: corrupt JPEG restored and saved ../dataset/images/val/Bright_20130218_153000_000825.jpg\n",
            "\u001b[34m\u001b[1mval: \u001b[0mWARNING: corrupt JPEG restored and saved ../dataset/images/val/Bright_20130218_153000_000840.jpg\n",
            "\u001b[34m\u001b[1mval: \u001b[0mWARNING: corrupt JPEG restored and saved ../dataset/images/val/Bright_20130218_153000_000900.jpg\n",
            "\u001b[34m\u001b[1mval: \u001b[0mWARNING: corrupt JPEG restored and saved ../dataset/images/val/Bright_20130218_153000_001110.jpg\n",
            "\u001b[34m\u001b[1mval: \u001b[0mWARNING: corrupt JPEG restored and saved ../dataset/images/val/Bright_20130218_153731_000105.jpg\n",
            "\u001b[34m\u001b[1mval: \u001b[0mWARNING: corrupt JPEG restored and saved ../dataset/images/val/Bright_20130218_153731_000630.jpg\n",
            "\u001b[34m\u001b[1mval: \u001b[0mWARNING: corrupt JPEG restored and saved ../dataset/images/val/Bright_20130218_153731_000660.jpg\n",
            "\u001b[34m\u001b[1mval: \u001b[0mWARNING: corrupt JPEG restored and saved ../dataset/images/val/Bright_20130218_153731_001125.jpg\n",
            "\u001b[34m\u001b[1mval: \u001b[0mWARNING: corrupt JPEG restored and saved ../dataset/images/val/Bright_20130218_153731_001320.jpg\n",
            "\u001b[34m\u001b[1mval: \u001b[0mWARNING: corrupt JPEG restored and saved ../dataset/images/val/Bright_20130218_153731_001365.jpg\n",
            "\u001b[34m\u001b[1mval: \u001b[0mWARNING: corrupt JPEG restored and saved ../dataset/images/val/Bright_20130218_153731_001740.jpg\n",
            "\u001b[34m\u001b[1mval: \u001b[0mWARNING: corrupt JPEG restored and saved ../dataset/images/val/Bright_20130218_153731_001980.jpg\n",
            "\u001b[34m\u001b[1mval: \u001b[0mWARNING: corrupt JPEG restored and saved ../dataset/images/val/Bright_20130218_153731_002235.jpg\n",
            "\u001b[34m\u001b[1mval: \u001b[0mWARNING: corrupt JPEG restored and saved ../dataset/images/val/Bright_20130218_153731_002265.jpg\n",
            "\u001b[34m\u001b[1mval: \u001b[0mWARNING: corrupt JPEG restored and saved ../dataset/images/val/Bright_20130218_153731_002280.jpg\n",
            "\u001b[34m\u001b[1mval: \u001b[0mWARNING: corrupt JPEG restored and saved ../dataset/images/val/Bright_20130218_161149_000000.jpg\n",
            "\u001b[34m\u001b[1mval: \u001b[0mWARNING: corrupt JPEG restored and saved ../dataset/images/val/Bright_20130218_162016_001245.jpg\n",
            "\u001b[34m\u001b[1mval: \u001b[0mWARNING: corrupt JPEG restored and saved ../dataset/images/val/Bright_20130218_162016_001275.jpg\n",
            "\u001b[34m\u001b[1mval: \u001b[0mWARNING: corrupt JPEG restored and saved ../dataset/images/val/Bright_20130218_162016_001335.jpg\n",
            "\u001b[34m\u001b[1mval: \u001b[0mWARNING: corrupt JPEG restored and saved ../dataset/images/val/Bright_20130218_162016_001365.jpg\n",
            "\u001b[34m\u001b[1mval: \u001b[0mWARNING: corrupt JPEG restored and saved ../dataset/images/val/Bright_20130218_162016_001455.jpg\n",
            "\u001b[34m\u001b[1mval: \u001b[0mWARNING: corrupt JPEG restored and saved ../dataset/images/val/Bright_20130218_162016_001590.jpg\n",
            "\u001b[34m\u001b[1mval: \u001b[0mWARNING: corrupt JPEG restored and saved ../dataset/images/val/Bright_20130218_162016_001635.jpg\n",
            "\u001b[34m\u001b[1mval: \u001b[0mWARNING: corrupt JPEG restored and saved ../dataset/images/val/Bright_20130218_162016_001785.jpg\n",
            "\u001b[34m\u001b[1mval: \u001b[0mNew cache created: /content/gdrive/MyDrive/객체탐지/dataset/val.cache\n",
            "[W pthreadpool-cpp.cc:90] Warning: Leaking Caffe2 thread-pool after fork. (function pthreadpool)\n",
            "[W pthreadpool-cpp.cc:90] Warning: Leaking Caffe2 thread-pool after fork. (function pthreadpool)\n",
            "Plotting labels... \n",
            "\n",
            "\u001b[34m\u001b[1mautoanchor: \u001b[0mAnalyzing anchors... anchors/target = 3.52, Best Possible Recall (BPR) = 0.9376. Attempting to improve anchors, please wait...\n",
            "\u001b[34m\u001b[1mautoanchor: \u001b[0mWARNING: Extremely small objects found. 928 of 17697 labels are < 3 pixels in size.\n",
            "\u001b[34m\u001b[1mautoanchor: \u001b[0mRunning kmeans for 9 anchors on 17696 points...\n",
            "\u001b[34m\u001b[1mautoanchor: \u001b[0mthr=0.25: 0.9698 best possible recall, 4.12 anchors past thr\n",
            "\u001b[34m\u001b[1mautoanchor: \u001b[0mn=9, img_size=416, metric_all=0.284/0.687-mean/best, past_thr=0.471-mean: 10,9,  29,8,  19,20,  45,30,  29,52,  107,16,  88,60,  74,113,  265,35\n",
            "\u001b[34m\u001b[1mautoanchor: \u001b[0mEvolving anchors with Genetic Algorithm: fitness = 0.7337: 100% 1000/1000 [00:06<00:00, 151.18it/s]\n",
            "\u001b[34m\u001b[1mautoanchor: \u001b[0mthr=0.25: 0.9887 best possible recall, 5.33 anchors past thr\n",
            "\u001b[34m\u001b[1mautoanchor: \u001b[0mn=9, img_size=416, metric_all=0.350/0.736-mean/best, past_thr=0.495-mean: 8,7,  16,4,  12,11,  18,14,  28,20,  20,35,  49,33,  49,89,  111,66\n",
            "\u001b[34m\u001b[1mautoanchor: \u001b[0mNew anchors saved to model. Update model *.yaml to use these anchors in the future.\n",
            "\n",
            "Image sizes 416 train, 416 val\n",
            "Using 2 dataloader workers\n",
            "Logging results to \u001b[1mruns/train/yolov5_result2\u001b[0m\n",
            "Starting training for 100 epochs...\n",
            "\n",
            "     Epoch   gpu_mem       box       obj       cls    labels  img_size\n",
            "      0/99     3.04G    0.1321   0.04131   0.03951       505       416: 100% 58/58 [03:50<00:00,  3.97s/it]\n",
            "               Class     Images     Labels          P          R     mAP@.5 mAP@.5:.95: 100% 8/8 [00:26<00:00,  3.33s/it]\n",
            "                 all        464       4409      0.793     0.0567     0.0228    0.00487\n",
            "\n",
            "     Epoch   gpu_mem       box       obj       cls    labels  img_size\n",
            "      1/99     3.27G    0.1062   0.04988   0.03023       432       416: 100% 58/58 [03:43<00:00,  3.86s/it]\n",
            "               Class     Images     Labels          P          R     mAP@.5 mAP@.5:.95: 100% 8/8 [00:24<00:00,  3.03s/it]\n",
            "                 all        464       4409      0.139      0.233      0.131     0.0409\n",
            "\n",
            "     Epoch   gpu_mem       box       obj       cls    labels  img_size\n",
            "      2/99     3.27G   0.08978   0.04965   0.02826       479       416: 100% 58/58 [03:47<00:00,  3.92s/it]\n",
            "               Class     Images     Labels          P          R     mAP@.5 mAP@.5:.95: 100% 8/8 [00:25<00:00,  3.14s/it]\n",
            "                 all        464       4409      0.758       0.17      0.202     0.0812\n",
            "\n",
            "     Epoch   gpu_mem       box       obj       cls    labels  img_size\n",
            "      3/99     3.27G    0.0844   0.05004   0.02627       518       416: 100% 58/58 [03:37<00:00,  3.75s/it]\n",
            "               Class     Images     Labels          P          R     mAP@.5 mAP@.5:.95: 100% 8/8 [00:22<00:00,  2.85s/it]\n",
            "                 all        464       4409      0.509      0.291      0.257      0.108\n",
            "\n",
            "     Epoch   gpu_mem       box       obj       cls    labels  img_size\n",
            "      4/99     3.27G   0.08157   0.04941   0.02474       400       416: 100% 58/58 [03:44<00:00,  3.87s/it]\n",
            "               Class     Images     Labels          P          R     mAP@.5 mAP@.5:.95: 100% 8/8 [00:22<00:00,  2.85s/it]\n",
            "                 all        464       4409      0.661      0.272      0.277       0.12\n",
            "\n",
            "     Epoch   gpu_mem       box       obj       cls    labels  img_size\n",
            "      5/99     3.27G   0.07952   0.04991   0.02379       497       416: 100% 58/58 [03:38<00:00,  3.76s/it]\n",
            "               Class     Images     Labels          P          R     mAP@.5 mAP@.5:.95: 100% 8/8 [00:22<00:00,  2.78s/it]\n",
            "                 all        464       4409      0.727      0.266       0.31      0.142\n",
            "\n",
            "     Epoch   gpu_mem       box       obj       cls    labels  img_size\n",
            "      6/99     3.27G   0.07836   0.04924   0.02291       495       416: 100% 58/58 [03:42<00:00,  3.83s/it]\n",
            "               Class     Images     Labels          P          R     mAP@.5 mAP@.5:.95: 100% 8/8 [00:22<00:00,  2.86s/it]\n",
            "                 all        464       4409      0.656      0.318      0.332      0.158\n",
            "\n",
            "     Epoch   gpu_mem       box       obj       cls    labels  img_size\n",
            "      7/99     3.27G   0.07606   0.04867   0.02193       393       416: 100% 58/58 [03:40<00:00,  3.80s/it]\n",
            "               Class     Images     Labels          P          R     mAP@.5 mAP@.5:.95: 100% 8/8 [00:23<00:00,  2.88s/it]\n",
            "                 all        464       4409       0.69      0.324      0.354       0.17\n",
            "\n",
            "     Epoch   gpu_mem       box       obj       cls    labels  img_size\n",
            "      8/99     3.27G   0.07763   0.04848    0.0219       442       416: 100% 58/58 [03:34<00:00,  3.70s/it]\n",
            "               Class     Images     Labels          P          R     mAP@.5 mAP@.5:.95: 100% 8/8 [00:23<00:00,  2.92s/it]\n",
            "                 all        464       4409      0.663      0.267      0.298       0.13\n",
            "\n",
            "     Epoch   gpu_mem       box       obj       cls    labels  img_size\n",
            "      9/99     3.27G   0.08102   0.04735    0.0219       454       416: 100% 58/58 [03:35<00:00,  3.72s/it]\n",
            "               Class     Images     Labels          P          R     mAP@.5 mAP@.5:.95: 100% 8/8 [00:22<00:00,  2.86s/it]\n",
            "                 all        464       4409      0.711      0.296      0.342      0.161\n",
            "\n",
            "     Epoch   gpu_mem       box       obj       cls    labels  img_size\n",
            "     10/99     3.27G   0.07771    0.0474    0.0212       488       416: 100% 58/58 [03:31<00:00,  3.65s/it]\n",
            "               Class     Images     Labels          P          R     mAP@.5 mAP@.5:.95: 100% 8/8 [00:22<00:00,  2.80s/it]\n",
            "                 all        464       4409      0.739       0.31      0.366      0.157\n",
            "\n",
            "     Epoch   gpu_mem       box       obj       cls    labels  img_size\n",
            "     11/99     3.27G    0.0758   0.04721   0.02039       474       416: 100% 58/58 [03:38<00:00,  3.76s/it]\n",
            "               Class     Images     Labels          P          R     mAP@.5 mAP@.5:.95: 100% 8/8 [00:21<00:00,  2.74s/it]\n",
            "                 all        464       4409      0.705      0.337      0.384      0.185\n",
            "\n",
            "     Epoch   gpu_mem       box       obj       cls    labels  img_size\n",
            "     12/99     3.27G   0.07536   0.04881    0.0205       512       416: 100% 58/58 [03:32<00:00,  3.67s/it]\n",
            "               Class     Images     Labels          P          R     mAP@.5 mAP@.5:.95: 100% 8/8 [00:21<00:00,  2.72s/it]\n",
            "                 all        464       4409      0.773      0.314       0.39      0.196\n",
            "\n",
            "     Epoch   gpu_mem       box       obj       cls    labels  img_size\n",
            "     13/99     3.27G   0.07352   0.04687    0.0201       423       416: 100% 58/58 [03:40<00:00,  3.81s/it]\n",
            "               Class     Images     Labels          P          R     mAP@.5 mAP@.5:.95: 100% 8/8 [00:21<00:00,  2.74s/it]\n",
            "                 all        464       4409      0.749      0.353      0.417      0.221\n",
            "\n",
            "     Epoch   gpu_mem       box       obj       cls    labels  img_size\n",
            "     14/99     3.27G   0.07161    0.0467    0.0196       392       416: 100% 58/58 [03:41<00:00,  3.81s/it]\n",
            "               Class     Images     Labels          P          R     mAP@.5 mAP@.5:.95: 100% 8/8 [00:25<00:00,  3.15s/it]\n",
            "                 all        464       4409      0.813      0.317      0.421      0.213\n",
            "\n",
            "     Epoch   gpu_mem       box       obj       cls    labels  img_size\n",
            "     15/99     3.27G   0.07181   0.04712   0.01919       426       416: 100% 58/58 [03:57<00:00,  4.10s/it]\n",
            "               Class     Images     Labels          P          R     mAP@.5 mAP@.5:.95: 100% 8/8 [00:25<00:00,  3.19s/it]\n",
            "                 all        464       4409      0.732      0.357      0.423      0.213\n",
            "\n",
            "     Epoch   gpu_mem       box       obj       cls    labels  img_size\n",
            "     16/99     3.27G   0.07012   0.04568   0.01929       516       416: 100% 58/58 [03:58<00:00,  4.12s/it]\n",
            "               Class     Images     Labels          P          R     mAP@.5 mAP@.5:.95: 100% 8/8 [00:24<00:00,  3.10s/it]\n",
            "                 all        464       4409      0.681      0.395      0.434      0.236\n",
            "\n",
            "     Epoch   gpu_mem       box       obj       cls    labels  img_size\n",
            "     17/99     3.27G   0.06984   0.04595   0.01881       547       416: 100% 58/58 [03:45<00:00,  3.88s/it]\n",
            "               Class     Images     Labels          P          R     mAP@.5 mAP@.5:.95: 100% 8/8 [00:23<00:00,  2.99s/it]\n",
            "                 all        464       4409      0.728      0.368      0.457      0.255\n",
            "\n",
            "     Epoch   gpu_mem       box       obj       cls    labels  img_size\n",
            "     18/99     3.27G   0.06819   0.04484   0.01837       502       416: 100% 58/58 [03:41<00:00,  3.83s/it]\n",
            "               Class     Images     Labels          P          R     mAP@.5 mAP@.5:.95: 100% 8/8 [00:24<00:00,  3.01s/it]\n",
            "                 all        464       4409      0.629      0.401      0.462      0.253\n",
            "\n",
            "     Epoch   gpu_mem       box       obj       cls    labels  img_size\n",
            "     19/99     3.27G   0.06754   0.04633   0.01775       587       416: 100% 58/58 [03:51<00:00,  3.99s/it]\n",
            "               Class     Images     Labels          P          R     mAP@.5 mAP@.5:.95: 100% 8/8 [00:24<00:00,  3.00s/it]\n",
            "                 all        464       4409      0.685      0.423       0.49      0.272\n",
            "\n",
            "     Epoch   gpu_mem       box       obj       cls    labels  img_size\n",
            "     20/99     3.27G   0.06692   0.04551   0.01758       422       416: 100% 58/58 [03:48<00:00,  3.94s/it]\n",
            "               Class     Images     Labels          P          R     mAP@.5 mAP@.5:.95: 100% 8/8 [00:24<00:00,  3.04s/it]\n",
            "                 all        464       4409      0.705      0.416      0.484      0.272\n",
            "\n",
            "     Epoch   gpu_mem       box       obj       cls    labels  img_size\n",
            "     21/99     3.27G   0.06577   0.04457   0.01711       377       416: 100% 58/58 [03:47<00:00,  3.93s/it]\n",
            "               Class     Images     Labels          P          R     mAP@.5 mAP@.5:.95: 100% 8/8 [00:23<00:00,  2.96s/it]\n",
            "                 all        464       4409      0.677      0.431       0.49      0.277\n",
            "\n",
            "     Epoch   gpu_mem       box       obj       cls    labels  img_size\n",
            "     22/99     3.27G    0.0652   0.04511   0.01682       566       416: 100% 58/58 [03:41<00:00,  3.82s/it]\n",
            "               Class     Images     Labels          P          R     mAP@.5 mAP@.5:.95: 100% 8/8 [00:22<00:00,  2.86s/it]\n",
            "                 all        464       4409      0.704      0.433      0.495      0.279\n",
            "\n",
            "     Epoch   gpu_mem       box       obj       cls    labels  img_size\n",
            "     23/99     3.27G   0.06493   0.04388   0.01653       413       416: 100% 58/58 [03:42<00:00,  3.83s/it]\n",
            "               Class     Images     Labels          P          R     mAP@.5 mAP@.5:.95: 100% 8/8 [00:23<00:00,  2.96s/it]\n",
            "                 all        464       4409      0.654      0.477      0.513      0.297\n",
            "\n",
            "     Epoch   gpu_mem       box       obj       cls    labels  img_size\n",
            "     24/99     3.27G   0.06473   0.04399   0.01621       433       416: 100% 58/58 [03:45<00:00,  3.89s/it]\n",
            "               Class     Images     Labels          P          R     mAP@.5 mAP@.5:.95: 100% 8/8 [00:23<00:00,  2.94s/it]\n",
            "                 all        464       4409      0.617      0.472      0.507      0.297\n",
            "\n",
            "     Epoch   gpu_mem       box       obj       cls    labels  img_size\n",
            "     25/99     3.27G   0.06389   0.04409   0.01581       545       416: 100% 58/58 [03:45<00:00,  3.89s/it]\n",
            "               Class     Images     Labels          P          R     mAP@.5 mAP@.5:.95: 100% 8/8 [00:24<00:00,  3.03s/it]\n",
            "                 all        464       4409      0.698       0.46      0.515      0.297\n",
            "\n",
            "     Epoch   gpu_mem       box       obj       cls    labels  img_size\n",
            "     26/99     3.27G   0.06291   0.04294   0.01561       499       416: 100% 58/58 [03:49<00:00,  3.96s/it]\n",
            "               Class     Images     Labels          P          R     mAP@.5 mAP@.5:.95: 100% 8/8 [00:24<00:00,  3.04s/it]\n",
            "                 all        464       4409      0.659      0.486      0.524      0.309\n",
            "\n",
            "     Epoch   gpu_mem       box       obj       cls    labels  img_size\n",
            "     27/99     3.27G   0.06284    0.0429   0.01562       451       416: 100% 58/58 [03:45<00:00,  3.89s/it]\n",
            "               Class     Images     Labels          P          R     mAP@.5 mAP@.5:.95: 100% 8/8 [00:23<00:00,  3.00s/it]\n",
            "                 all        464       4409        0.7      0.479      0.527      0.304\n",
            "\n",
            "     Epoch   gpu_mem       box       obj       cls    labels  img_size\n",
            "     28/99     3.27G   0.06291    0.0424    0.0154       568       416: 100% 58/58 [03:49<00:00,  3.96s/it]\n",
            "               Class     Images     Labels          P          R     mAP@.5 mAP@.5:.95: 100% 8/8 [00:23<00:00,  2.98s/it]\n",
            "                 all        464       4409      0.702      0.457      0.525       0.31\n",
            "\n",
            "     Epoch   gpu_mem       box       obj       cls    labels  img_size\n",
            "     29/99     3.27G   0.06244   0.04281    0.0152       369       416: 100% 58/58 [03:50<00:00,  3.97s/it]\n",
            "               Class     Images     Labels          P          R     mAP@.5 mAP@.5:.95: 100% 8/8 [00:23<00:00,  2.99s/it]\n",
            "                 all        464       4409      0.722      0.467      0.536      0.314\n",
            "\n",
            "     Epoch   gpu_mem       box       obj       cls    labels  img_size\n",
            "     30/99     3.27G   0.06265   0.04293   0.01442       583       416: 100% 58/58 [03:48<00:00,  3.94s/it]\n",
            "               Class     Images     Labels          P          R     mAP@.5 mAP@.5:.95: 100% 8/8 [00:24<00:00,  3.01s/it]\n",
            "                 all        464       4409      0.783      0.437      0.529      0.322\n",
            "\n",
            "     Epoch   gpu_mem       box       obj       cls    labels  img_size\n",
            "     31/99     3.27G   0.06146   0.04194   0.01464       497       416: 100% 58/58 [03:40<00:00,  3.81s/it]\n",
            "               Class     Images     Labels          P          R     mAP@.5 mAP@.5:.95: 100% 8/8 [00:23<00:00,  2.94s/it]\n",
            "                 all        464       4409      0.688      0.465      0.534      0.319\n",
            "\n",
            "     Epoch   gpu_mem       box       obj       cls    labels  img_size\n",
            "     32/99     3.27G   0.06221    0.0425   0.01486       537       416: 100% 58/58 [03:42<00:00,  3.83s/it]\n",
            "               Class     Images     Labels          P          R     mAP@.5 mAP@.5:.95: 100% 8/8 [00:24<00:00,  3.02s/it]\n",
            "                 all        464       4409      0.711      0.474      0.535      0.325\n",
            "\n",
            "     Epoch   gpu_mem       box       obj       cls    labels  img_size\n",
            "     33/99     3.27G   0.06181   0.04304   0.01432       455       416: 100% 58/58 [03:51<00:00,  3.99s/it]\n",
            "               Class     Images     Labels          P          R     mAP@.5 mAP@.5:.95: 100% 8/8 [00:24<00:00,  3.07s/it]\n",
            "                 all        464       4409      0.717      0.473      0.545      0.331\n",
            "\n",
            "     Epoch   gpu_mem       box       obj       cls    labels  img_size\n",
            "     34/99     3.27G   0.06138   0.04248   0.01408       435       416: 100% 58/58 [03:50<00:00,  3.98s/it]\n",
            "               Class     Images     Labels          P          R     mAP@.5 mAP@.5:.95: 100% 8/8 [00:24<00:00,  3.04s/it]\n",
            "                 all        464       4409      0.758      0.457      0.537      0.329\n",
            "\n",
            "     Epoch   gpu_mem       box       obj       cls    labels  img_size\n",
            "     35/99     3.27G   0.06078   0.04137   0.01388       486       416: 100% 58/58 [03:53<00:00,  4.02s/it]\n",
            "               Class     Images     Labels          P          R     mAP@.5 mAP@.5:.95: 100% 8/8 [00:24<00:00,  3.11s/it]\n",
            "                 all        464       4409      0.727      0.466      0.529      0.324\n",
            "\n",
            "     Epoch   gpu_mem       box       obj       cls    labels  img_size\n",
            "     36/99     3.27G   0.06095   0.04165    0.0135       453       416: 100% 58/58 [03:55<00:00,  4.07s/it]\n",
            "               Class     Images     Labels          P          R     mAP@.5 mAP@.5:.95: 100% 8/8 [00:24<00:00,  3.08s/it]\n",
            "                 all        464       4409      0.727      0.465      0.544      0.331\n",
            "\n",
            "     Epoch   gpu_mem       box       obj       cls    labels  img_size\n",
            "     37/99     3.27G   0.06042   0.04183   0.01389       463       416: 100% 58/58 [03:52<00:00,  4.01s/it]\n",
            "               Class     Images     Labels          P          R     mAP@.5 mAP@.5:.95: 100% 8/8 [00:25<00:00,  3.13s/it]\n",
            "                 all        464       4409      0.756      0.477      0.545      0.334\n",
            "\n",
            "     Epoch   gpu_mem       box       obj       cls    labels  img_size\n",
            "     38/99     3.27G   0.06003   0.04081    0.0135       523       416: 100% 58/58 [03:55<00:00,  4.06s/it]\n",
            "               Class     Images     Labels          P          R     mAP@.5 mAP@.5:.95: 100% 8/8 [00:24<00:00,  3.12s/it]\n",
            "                 all        464       4409      0.744      0.475      0.543      0.329\n",
            "\n",
            "     Epoch   gpu_mem       box       obj       cls    labels  img_size\n",
            "     39/99     3.27G   0.05951    0.0411   0.01344       504       416: 100% 58/58 [03:56<00:00,  4.07s/it]\n",
            "               Class     Images     Labels          P          R     mAP@.5 mAP@.5:.95: 100% 8/8 [00:24<00:00,  3.06s/it]\n",
            "                 all        464       4409      0.685      0.501      0.548      0.337\n",
            "\n",
            "     Epoch   gpu_mem       box       obj       cls    labels  img_size\n",
            "     40/99     3.27G   0.05963   0.04065   0.01318       459       416: 100% 58/58 [03:54<00:00,  4.05s/it]\n",
            "               Class     Images     Labels          P          R     mAP@.5 mAP@.5:.95: 100% 8/8 [00:24<00:00,  3.06s/it]\n",
            "                 all        464       4409      0.737      0.469      0.546      0.339\n",
            "\n",
            "     Epoch   gpu_mem       box       obj       cls    labels  img_size\n",
            "     41/99     3.27G   0.05934   0.04082   0.01313       513       416: 100% 58/58 [03:56<00:00,  4.07s/it]\n",
            "               Class     Images     Labels          P          R     mAP@.5 mAP@.5:.95: 100% 8/8 [00:23<00:00,  2.95s/it]\n",
            "                 all        464       4409       0.74      0.484      0.548      0.335\n",
            "\n",
            "     Epoch   gpu_mem       box       obj       cls    labels  img_size\n",
            "     42/99     3.27G   0.05951   0.04089   0.01264       464       416: 100% 58/58 [03:46<00:00,  3.91s/it]\n",
            "               Class     Images     Labels          P          R     mAP@.5 mAP@.5:.95: 100% 8/8 [00:22<00:00,  2.87s/it]\n",
            "                 all        464       4409      0.742        0.5      0.558      0.343\n",
            "\n",
            "     Epoch   gpu_mem       box       obj       cls    labels  img_size\n",
            "     43/99     3.27G   0.05936   0.04201   0.01299       420       416: 100% 58/58 [03:45<00:00,  3.89s/it]\n",
            "               Class     Images     Labels          P          R     mAP@.5 mAP@.5:.95: 100% 8/8 [00:24<00:00,  3.01s/it]\n",
            "                 all        464       4409      0.813      0.456      0.551      0.343\n",
            "\n",
            "     Epoch   gpu_mem       box       obj       cls    labels  img_size\n",
            "     44/99     3.27G   0.05895   0.04073   0.01279       414       416: 100% 58/58 [03:46<00:00,  3.91s/it]\n",
            "               Class     Images     Labels          P          R     mAP@.5 mAP@.5:.95: 100% 8/8 [00:23<00:00,  2.97s/it]\n",
            "                 all        464       4409      0.708      0.495      0.553      0.341\n",
            "\n",
            "     Epoch   gpu_mem       box       obj       cls    labels  img_size\n",
            "     45/99     3.27G   0.05905   0.04039   0.01264       520       416: 100% 58/58 [03:45<00:00,  3.89s/it]\n",
            "               Class     Images     Labels          P          R     mAP@.5 mAP@.5:.95: 100% 8/8 [00:24<00:00,  3.00s/it]\n",
            "                 all        464       4409      0.709      0.509      0.559      0.348\n",
            "\n",
            "     Epoch   gpu_mem       box       obj       cls    labels  img_size\n",
            "     46/99     3.27G   0.05782   0.03952   0.01269       473       416: 100% 58/58 [03:46<00:00,  3.90s/it]\n",
            "               Class     Images     Labels          P          R     mAP@.5 mAP@.5:.95: 100% 8/8 [00:24<00:00,  3.01s/it]\n",
            "                 all        464       4409      0.705      0.512      0.563      0.348\n",
            "\n",
            "     Epoch   gpu_mem       box       obj       cls    labels  img_size\n",
            "     47/99     3.27G   0.05767    0.0393   0.01209       417       416: 100% 58/58 [03:48<00:00,  3.94s/it]\n",
            "               Class     Images     Labels          P          R     mAP@.5 mAP@.5:.95: 100% 8/8 [00:24<00:00,  3.00s/it]\n",
            "                 all        464       4409      0.729      0.482      0.553      0.348\n",
            "\n",
            "     Epoch   gpu_mem       box       obj       cls    labels  img_size\n",
            "     48/99     3.27G   0.05766   0.03987   0.01204       422       416: 100% 58/58 [03:46<00:00,  3.91s/it]\n",
            "               Class     Images     Labels          P          R     mAP@.5 mAP@.5:.95: 100% 8/8 [00:23<00:00,  2.98s/it]\n",
            "                 all        464       4409      0.792      0.483      0.574      0.362\n",
            "\n",
            "     Epoch   gpu_mem       box       obj       cls    labels  img_size\n",
            "     49/99     3.27G   0.05818   0.04023    0.0121       457       416: 100% 58/58 [03:46<00:00,  3.90s/it]\n",
            "               Class     Images     Labels          P          R     mAP@.5 mAP@.5:.95: 100% 8/8 [00:24<00:00,  3.00s/it]\n",
            "                 all        464       4409      0.741       0.52      0.574      0.359\n",
            "\n",
            "     Epoch   gpu_mem       box       obj       cls    labels  img_size\n",
            "     50/99     3.27G   0.05762   0.04011   0.01186       513       416: 100% 58/58 [03:43<00:00,  3.85s/it]\n",
            "               Class     Images     Labels          P          R     mAP@.5 mAP@.5:.95: 100% 8/8 [00:24<00:00,  3.04s/it]\n",
            "                 all        464       4409      0.776      0.485      0.563      0.358\n",
            "\n",
            "     Epoch   gpu_mem       box       obj       cls    labels  img_size\n",
            "     51/99     3.27G    0.0577   0.04037   0.01185       396       416: 100% 58/58 [03:47<00:00,  3.91s/it]\n",
            "               Class     Images     Labels          P          R     mAP@.5 mAP@.5:.95: 100% 8/8 [00:23<00:00,  2.97s/it]\n",
            "                 all        464       4409      0.706      0.501      0.557      0.351\n",
            "\n",
            "     Epoch   gpu_mem       box       obj       cls    labels  img_size\n",
            "     52/99     3.27G   0.05734   0.03959    0.0118       505       416: 100% 58/58 [03:49<00:00,  3.96s/it]\n",
            "               Class     Images     Labels          P          R     mAP@.5 mAP@.5:.95: 100% 8/8 [00:24<00:00,  3.03s/it]\n",
            "                 all        464       4409      0.736      0.499      0.563      0.357\n",
            "\n",
            "     Epoch   gpu_mem       box       obj       cls    labels  img_size\n",
            "     53/99     3.27G   0.05693   0.03914   0.01166       422       416: 100% 58/58 [03:43<00:00,  3.85s/it]\n",
            "               Class     Images     Labels          P          R     mAP@.5 mAP@.5:.95: 100% 8/8 [00:23<00:00,  2.91s/it]\n",
            "                 all        464       4409      0.768      0.497      0.566      0.355\n",
            "\n",
            "     Epoch   gpu_mem       box       obj       cls    labels  img_size\n",
            "     54/99     3.27G   0.05699   0.03912   0.01169       466       416: 100% 58/58 [03:38<00:00,  3.77s/it]\n",
            "               Class     Images     Labels          P          R     mAP@.5 mAP@.5:.95: 100% 8/8 [00:23<00:00,  2.92s/it]\n",
            "                 all        464       4409      0.738      0.504      0.569      0.357\n",
            "\n",
            "     Epoch   gpu_mem       box       obj       cls    labels  img_size\n",
            "     55/99     3.27G   0.05648    0.0387   0.01144       472       416: 100% 58/58 [03:43<00:00,  3.85s/it]\n",
            "               Class     Images     Labels          P          R     mAP@.5 mAP@.5:.95: 100% 8/8 [00:23<00:00,  2.91s/it]\n",
            "                 all        464       4409      0.748      0.501       0.57      0.361\n",
            "\n",
            "     Epoch   gpu_mem       box       obj       cls    labels  img_size\n",
            "     56/99     3.27G    0.0569   0.03903   0.01151       509       416: 100% 58/58 [03:43<00:00,  3.85s/it]\n",
            "               Class     Images     Labels          P          R     mAP@.5 mAP@.5:.95: 100% 8/8 [00:24<00:00,  3.01s/it]\n",
            "                 all        464       4409      0.818      0.483      0.566      0.354\n",
            "\n",
            "     Epoch   gpu_mem       box       obj       cls    labels  img_size\n",
            "     57/99     3.27G   0.05631   0.03858    0.0115       431       416: 100% 58/58 [03:48<00:00,  3.93s/it]\n",
            "               Class     Images     Labels          P          R     mAP@.5 mAP@.5:.95: 100% 8/8 [00:24<00:00,  3.12s/it]\n",
            "                 all        464       4409       0.74      0.515      0.579      0.368\n",
            "\n",
            "     Epoch   gpu_mem       box       obj       cls    labels  img_size\n",
            "     58/99     3.27G   0.05602   0.03883   0.01106       464       416: 100% 58/58 [03:44<00:00,  3.87s/it]\n",
            "               Class     Images     Labels          P          R     mAP@.5 mAP@.5:.95: 100% 8/8 [00:23<00:00,  2.88s/it]\n",
            "                 all        464       4409      0.802      0.509      0.587      0.372\n",
            "\n",
            "     Epoch   gpu_mem       box       obj       cls    labels  img_size\n",
            "     59/99     3.27G   0.05638   0.03864   0.01102       474       416: 100% 58/58 [03:45<00:00,  3.89s/it]\n",
            "               Class     Images     Labels          P          R     mAP@.5 mAP@.5:.95: 100% 8/8 [00:23<00:00,  2.93s/it]\n",
            "                 all        464       4409      0.756      0.506      0.573      0.362\n",
            "\n",
            "     Epoch   gpu_mem       box       obj       cls    labels  img_size\n",
            "     60/99     3.27G   0.05623   0.03879   0.01088       526       416: 100% 58/58 [03:40<00:00,  3.80s/it]\n",
            "               Class     Images     Labels          P          R     mAP@.5 mAP@.5:.95: 100% 8/8 [00:23<00:00,  2.97s/it]\n",
            "                 all        464       4409      0.735      0.537      0.589       0.37\n",
            "\n",
            "     Epoch   gpu_mem       box       obj       cls    labels  img_size\n",
            "     61/99     3.27G   0.05613   0.03813   0.01085       429       416: 100% 58/58 [03:47<00:00,  3.92s/it]\n",
            "               Class     Images     Labels          P          R     mAP@.5 mAP@.5:.95: 100% 8/8 [00:24<00:00,  3.10s/it]\n",
            "                 all        464       4409      0.774      0.524      0.587      0.375\n",
            "\n",
            "     Epoch   gpu_mem       box       obj       cls    labels  img_size\n",
            "     62/99     3.27G   0.05566   0.03697   0.01098       444       416: 100% 58/58 [03:46<00:00,  3.90s/it]\n",
            "               Class     Images     Labels          P          R     mAP@.5 mAP@.5:.95: 100% 8/8 [00:24<00:00,  3.05s/it]\n",
            "                 all        464       4409      0.774      0.514      0.577      0.371\n",
            "\n",
            "     Epoch   gpu_mem       box       obj       cls    labels  img_size\n",
            "     63/99     3.27G   0.05547   0.03752   0.01083       525       416: 100% 58/58 [03:49<00:00,  3.96s/it]\n",
            "               Class     Images     Labels          P          R     mAP@.5 mAP@.5:.95: 100% 8/8 [00:24<00:00,  3.05s/it]\n",
            "                 all        464       4409      0.797      0.501      0.576      0.368\n",
            "\n",
            "     Epoch   gpu_mem       box       obj       cls    labels  img_size\n",
            "     64/99     3.27G   0.05549   0.03739   0.01066       514       416: 100% 58/58 [03:46<00:00,  3.90s/it]\n",
            "               Class     Images     Labels          P          R     mAP@.5 mAP@.5:.95: 100% 8/8 [00:23<00:00,  2.99s/it]\n",
            "                 all        464       4409      0.788      0.501       0.58      0.371\n",
            "\n",
            "     Epoch   gpu_mem       box       obj       cls    labels  img_size\n",
            "     65/99     3.27G   0.05522   0.03744    0.0105       451       416: 100% 58/58 [03:47<00:00,  3.93s/it]\n",
            "               Class     Images     Labels          P          R     mAP@.5 mAP@.5:.95: 100% 8/8 [00:24<00:00,  3.06s/it]\n",
            "                 all        464       4409      0.781      0.514      0.594       0.38\n",
            "\n",
            "     Epoch   gpu_mem       box       obj       cls    labels  img_size\n",
            "     66/99     3.27G   0.05544   0.03735   0.01027       654       416:  76% 44/58 [02:53<00:47,  3.36s/it]"
          ]
        }
      ]
    },
    {
      "cell_type": "code",
      "metadata": {
        "id": "PPKqRlbQWixu"
      },
      "source": [
        "!python train.py --img 416 --batch 4 --epochs 100 --data /content/gdrive/MyDrive/객체탐지/yolov5/data/cars.yaml --cfg ./models/yolov5s.yaml --weights yolov5s.pt --name yolov5s_results"
      ],
      "execution_count": null,
      "outputs": []
    },
    {
      "cell_type": "code",
      "metadata": {
        "id": "m36TPpnpaFAq"
      },
      "source": [
        "# 실행 x\n",
        "# Start tensorboard 실시간으로 학습과정 살펴보기 위함, 참조할 폴더 runs\n",
        "# validation result도 볼 수 있음. 복잡하다 싶으면 그냥 runs/train 폴더에서 확인하면됨.\n",
        "%load_ext tensorboard\n",
        "%tensorboard --logdir runs"
      ],
      "execution_count": null,
      "outputs": []
    },
    {
      "cell_type": "markdown",
      "metadata": {
        "id": "NE8j1svhXI8K"
      },
      "source": [
        "# (실행3)Test\n",
        "\n",
        "**참고**\n",
        "- train.py: 데이터 로더는 속도와 정확도의 타협을 위해 설계되었다.\n",
        "- val.py: 검증 데이터 세트에서 최고의 mAP를 얻도록 설계되었다.\n",
        "- detect.py: 최고의 추론 결과를 위해 설계되었다.\n",
        "\n",
        "```python\n",
        "!python detect.py --img 416 --source /content/gdrive/MyDrive/객체탐지/dataset/images/val --weights /content/gdrive/MyDrive/객체탐지/yolov5/runs/train/yolov5_result2/weights/best.pt --conf-thres 0.4\n",
        "```"
      ]
    },
    {
      "cell_type": "code",
      "metadata": {
        "id": "8sVOXsbCXIZm"
      },
      "source": [
        "!python detect.py --img 416 --source /content/gdrive/MyDrive/객체탐지/dataset/images/val --weights /content/gdrive/MyDrive/객체탐지/yolov5/runs/train/yolov5_result2/weights/best.pt --conf-thres 0.4"
      ],
      "execution_count": null,
      "outputs": []
    },
    {
      "cell_type": "markdown",
      "metadata": {
        "id": "77NpaFIbLfGr"
      },
      "source": [
        "# (실행4)Performance evaluation\n",
        "YOLO에서는 모델의 성능(정확도)을 mAP를 통해 확인한다. mAP가 높을수록 정확하고, 작을수록 부정확하다.\n",
        "\n",
        "* [colab - mAP 계산하러가기](https://drive.google.com/file/d/1Xh_BWS90mx13MQIfmqLa9ijjxpaUO3lS/view?usp=sharing)"
      ]
    },
    {
      "cell_type": "code",
      "metadata": {
        "id": "bx7UfQUIX7ns"
      },
      "source": [
        ""
      ],
      "execution_count": null,
      "outputs": []
    },
    {
      "cell_type": "markdown",
      "metadata": {
        "id": "Rid0NKy2XsBS"
      },
      "source": [
        "---\n",
        "# **Issue**\n",
        "\n",
        "- Colab gpu 할당 시간 넘어서 멈춘다...\n",
        "- <del>바운딩박스가 객체 인식하는게 이상함</del>(Task1에서 해결완료)\n",
        "- FPS는 어떻게 확인할 수 있을까?\n",
        "- 차종분류모델, xml작업?\n",
        "- 번호판 Detection 먼저?\n",
        "\n",
        "# Questions\n",
        "- 사진 크기가 1280x672, 1920x1080 인데 학습 사진 크기를 416으로함. 영향없나?\n",
        "- train, val 나누고 train.py 돌리는데 val데이터로 학습된 걸 평가중인건가? val.py는 왜있는건가!! 더 최상의 성능평가가 나올 수 있도록 짜여진 코드?\n",
        "- coco 에 car detection이 성능좋게 만들어져있는데 이것을 이용하고 + 우리 데이터를 같이 사용중인건가? 전이학습이라?"
      ]
    }
  ]
}