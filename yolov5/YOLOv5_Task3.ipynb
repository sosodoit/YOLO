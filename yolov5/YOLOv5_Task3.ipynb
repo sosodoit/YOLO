{
  "nbformat": 4,
  "nbformat_minor": 0,
  "metadata": {
    "colab": {
      "name": "YOLOv5_Task3.ipynb",
      "provenance": [],
      "collapsed_sections": [],
      "include_colab_link": true
    },
    "kernelspec": {
      "name": "python3",
      "display_name": "Python 3"
    },
    "language_info": {
      "name": "python"
    }
  },
  "cells": [
    {
      "cell_type": "markdown",
      "metadata": {
        "id": "view-in-github",
        "colab_type": "text"
      },
      "source": [
        "<a href=\"https://colab.research.google.com/github/sosodoit/yolov5/blob/main/YOLOv5_Task3.ipynb\" target=\"_parent\"><img src=\"https://colab.research.google.com/assets/colab-badge.svg\" alt=\"Open In Colab\"/></a>"
      ]
    },
    {
      "cell_type": "markdown",
      "metadata": {
        "id": "OLC7I5wmlMAf"
      },
      "source": [
        "<ul>Task 0 (YOLOv5 note)\n",
        "<dl>용어, 개념, 궁금한 문제들 기록 (<a href=\"https://colab.research.google.com/drive/1u8S1vF5g9dSR8oDBJxjqiY9AH0C43jjF?usp=sharing\">link</a>)</dl>\n",
        "</ul>\n",
        "\n",
        "<ol type=\"I\">\n",
        "  <li>Task 1 (사전작업)</li>\n",
        "  <dl>YOLOv5 모델작업에 들어가기전, 데이터를 확인하고 정제한 작업 내용을 담고 있습니다(<a href=\"https://colab.research.google.com/drive/1fBpA9nP9l9pPbSCTFzNk1J2amQNDTZbQ?usp=sharing\">link</a>)</dl>\n",
        "  <ul type=\"square\">\n",
        "  <li>Putting data into a folder</li>\n",
        "  <li>Convert the Annotations into the YOLOv5 Format</li>\n",
        "  <li>Testing the annotations</li>\n",
        "  <li>Partition the Dataset</li>\n",
        "  </ul>\n",
        "  <li>Task 2 (학습)</li>\n",
        "  <dl>YOLOv5 환경설정부터 학습한 작업내용을 담고 있습니다(<a href=\"https://colab.research.google.com/drive/1zHrTaAlsT4tDxZhGhUYK1ZIGjtrrvv-y?usp=sharing\">link</a>)</dl>\n",
        "  <ul type=\"square\">\n",
        "  <li>Set up the environment</li>\n",
        "  <li>Data Config File</li>\n",
        "  <li>Hyper-parameter Config File</li>\n",
        "  <li>Custom Network Architecture</li>\n",
        "  <li>Train the Model</li>\n",
        "  </ul>\n",
        "<strong>\n",
        "  <li>Task 3 (결과)</li>\n",
        "  <dl>학습 후 테스트와 성능평가의 결과내용을 담고 있습니다(here)</dl>\n",
        "  <ul type=\"square\">\n",
        "  <li>Test</li>\n",
        "  <li>Computing the mAP on test dataset</li>\n",
        "  </ul>\n",
        "</strong>\n",
        "</ol>\n"
      ]
    },
    {
      "cell_type": "markdown",
      "metadata": {
        "id": "chdfHrbZWX-X"
      },
      "source": [
        "---\n",
        "---\n",
        "---\n",
        "<center><h3>학습결과요약-2차</h3></center>\n",
        "\n",
        "|YOLOv5s|result1|result2|\n",
        "|------|---|---|\n",
        "|epochs|100|100|\n",
        "|batch|32|4|4|16|\n",
        "|img-size|416|416|\n",
        "|Vehicle_Car AP|0.-|0.-|\n",
        "|Vehicle_Bus AP|0.-|0.-|\n",
        "|Vehicle_Motorcycle AP|0.-|0.-| \n",
        "|Vehicle_Unknown AP|0.-|0.-|\n",
        "|AP50|0.-|0.-|\n",
        "|**mAP**|0.-|0.-|\n",
        "|**time**|h|h|\n",
        "\n",
        "<br>\n",
        "\n",
        "<center><h3>학습결과요약-1차(문제발생)</h3></center>\n",
        "\n",
        "|YOLOv5s|result1|result2|result3|result4|\n",
        "|------|---|---|---|---|\n",
        "|epochs|50|100|100|100|\n",
        "|batch|4|4|4|16|\n",
        "|img-size|416|640|1080|1080|\n",
        "|AP50|0.031|0.012|0.003|0.004|\n",
        "|mAP|0.0119|0.005|0.0006|0.00078|\n",
        "|time|3.783h||||||"
      ]
    },
    {
      "cell_type": "markdown",
      "metadata": {
        "id": "sYX9UTz3V4qD"
      },
      "source": [
        "---\n",
        "---\n",
        "---\n",
        "\n",
        "**참고**\n",
        "\n",
        "<dl>\n",
        "<ul>\n",
        "<li>1 epoch : 각 데이터 사이즈가 50인 batch가 들어간 46.28(2314/50)번의 iteration으로 나눠짐</li>\n",
        "<li>전체 데이터셋에 대해 4번의 학습이 이루어졌으며, iteration 기준으로 보면 총 185.12(4x46.28)번의 학습이 이뤄짐</li>\n",
        "</ul>\n",
        "</dl>\n",
        "\n",
        "- mAP@.5(Pascal VOC)\n",
        "- mAP@.5:.95(COCO)\n",
        "- **weights/results.png**\n",
        "- Augmentation train image (학습데이터 어떤 식으로 증강되고, 정답이 어떻게 박스로 잡혔는지 train-batch1.jpg 파일을 통해 확인)\n",
        "```\n",
        "Image(filename='./train_batch1.jpg', width=900)  # view augmented training mosaics\n",
        "```\n",
        "- Predicted value test(validation)\n"
      ]
    }
  ]
}