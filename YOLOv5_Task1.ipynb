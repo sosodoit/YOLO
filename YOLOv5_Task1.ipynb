{
  "nbformat": 4,
  "nbformat_minor": 0,
  "metadata": {
    "colab": {
      "name": "YOLOv5_Task1.ipynb",
      "provenance": [],
      "collapsed_sections": [
        "drdwbMh5SK45",
        "qaSGkUSKR9TW",
        "ANYybOYoiYY1",
        "0nsiN6MgOFOf",
        "Ka5z9o_uBcOZ",
        "elXld6J6OuH9"
      ],
      "toc_visible": true,
      "authorship_tag": "ABX9TyPPx7o8oOwCKgMcOXdJ832i",
      "include_colab_link": true
    },
    "kernelspec": {
      "name": "python3",
      "display_name": "Python 3"
    },
    "language_info": {
      "name": "python"
    }
  },
  "cells": [
    {
      "cell_type": "markdown",
      "metadata": {
        "id": "view-in-github",
        "colab_type": "text"
      },
      "source": [
        "<a href=\"https://colab.research.google.com/github/sosodoit/yolov5/blob/main/YOLOv5_Task1.ipynb\" target=\"_parent\"><img src=\"https://colab.research.google.com/assets/colab-badge.svg\" alt=\"Open In Colab\"/></a>"
      ]
    },
    {
      "cell_type": "markdown",
      "metadata": {
        "id": "kTocKSa9ZSbh"
      },
      "source": [
        "<ul>Task 0 (YOLOv5 note)\n",
        "<dl>용어, 개념, 궁금한 문제들 기록 (<a href=\"https://colab.research.google.com/drive/1u8S1vF5g9dSR8oDBJxjqiY9AH0C43jjF?usp=sharing\">link</a>)</dl>\n",
        "</ul>\n",
        "\n",
        "<ol type=\"I\">\n",
        "<strong>\n",
        "  <li>Task 1 (사전작업)</li>\n",
        "  <dl>YOLOv5 모델작업에 들어가기전, 데이터를 확인하고 정제한 작업 내용을 담고 있습니다(here)</dl>\n",
        "  <ul type=\"square\">\n",
        "  <li>Putting data into a folder</li>\n",
        "  <li>Convert the Annotations into the YOLOv5 Format</li>\n",
        "  <li>Testing the annotations</li>\n",
        "  <li>Partition the Dataset</li>\n",
        "  </ul>\n",
        "</strong>\n",
        "  <li>Task 2 (학습)</li>\n",
        "  <dl>YOLOv5 환경설정부터 학습한 작업내용을 담고 있습니다(<a href=\"https://colab.research.google.com/drive/1zHrTaAlsT4tDxZhGhUYK1ZIGjtrrvv-y?usp=sharing\">link</a>)</dl>\n",
        "  <ul type=\"square\">\n",
        "  <li>Set up the environment</li>\n",
        "  <li>Data Config File</li>\n",
        "  <li>Hyper-parameter Config File</li>\n",
        "  <li>Custom Network Architecture</li>\n",
        "  <li>Train the Model</li>\n",
        "  </ul>\n",
        "  <li>Task 3 (결과)</li>\n",
        "  <dl>학습 후 테스트와 성능평가의 결과내용을 담고 있습니다(<a href=\"https://colab.research.google.com/drive/1---iUi0KXpVVjn95BNmsDyScnzLmFY6p?usp=sharing\">link</a>)</dl>\n",
        "  <ul type=\"square\">\n",
        "  <li>Test</li>\n",
        "  <li>Computing the mAP on test dataset</li>\n",
        "  </ul>\n",
        "</ol>"
      ]
    },
    {
      "cell_type": "markdown",
      "metadata": {
        "id": "drdwbMh5SK45"
      },
      "source": [
        "---\n",
        "# 수정된 작업(up-to-date)"
      ]
    },
    {
      "cell_type": "markdown",
      "metadata": {
        "id": "MyxjOw0tSmfh"
      },
      "source": [
        "**1. Putting data into a folder**\n",
        "<ul>나눠진 데이터를 작업할 폴더에 images와 labels폴더 아래로 모음</ul>\n",
        "\n",
        "**Original Data**\n",
        "\n",
        "- [원천]도심로_주간일출_맑음_45_전방, [라벨]도심로_주간일출_맑음_45_전방\n",
        "- [원천]도심로_주간일출_맑음_60_전방, [라벨]도심로_주간일출_맑음_60_전방\n",
        "- [원천]도심로_주간일출_맑음_120_전방, [라벨]도심로_주간일출_맑음_120_전방\n",
        "<dl>총 2318개의 이미지와 라벨링된 xml</dl>\n",
        "\n",
        "**Datafile Directory**\n",
        "\n",
        "- dataset\n",
        "  - images\n",
        "    - train\n",
        "    - val\n",
        "  - labels\n",
        "    - train\n",
        "    - val"
      ]
    },
    {
      "cell_type": "markdown",
      "metadata": {
        "id": "_AzEO3pPTL5Z"
      },
      "source": [
        "**2. Convert the Annotations into the YOLOv5 Format**\n",
        "\n",
        "주의: dataset폴더가 있는 상위폴더 경로에서 진행해야함\n",
        "\n",
        "``` python\n",
        "#ex\n",
        "%cd /content/gdrive/MyDrive/객체탐지\n",
        "!ls\n",
        "# dataset\n",
        "```\n"
      ]
    },
    {
      "cell_type": "code",
      "metadata": {
        "id": "CTMYCx61TsQN"
      },
      "source": [
        "############ 경로설정 ############\n",
        "from google.colab import drive\n",
        "drive.mount('/content/gdrive')\n",
        "%cd /content/gdrive/MyDrive/객체탐지\n",
        "!ls"
      ],
      "execution_count": null,
      "outputs": []
    },
    {
      "cell_type": "code",
      "metadata": {
        "id": "AGjSDE8mT0va"
      },
      "source": [
        "############ xml 파일 확인 ############\n",
        "#!cat dataset/labels/Bright_20130218_153731_000210_v001_1.xml"
      ],
      "execution_count": null,
      "outputs": []
    },
    {
      "cell_type": "code",
      "metadata": {
        "id": "OupTHqRGT4Ar"
      },
      "source": [
        "############ XML파일에서 정보 긁어오는 함수 ############\n",
        "def extract_info_from_xml(xml_file):\n",
        "    root = ET.parse(xml_file).getroot()\n",
        "    \n",
        "    info_dict = {}\n",
        "    info_dict['bboxes'] = []\n",
        "\n",
        "    for elem in root:\n",
        "        if elem.tag == \"filename\":\n",
        "            info_dict['filename'] = elem.text\n",
        "            \n",
        "        elif elem.tag == \"size\":\n",
        "            image_size = []\n",
        "            for subelem in elem:\n",
        "                image_size.append(int(subelem.text))\n",
        "            \n",
        "            info_dict['image_size'] = tuple(image_size)\n",
        "        \n",
        "        elif elem.tag == \"object\":\n",
        "            bbox = {}\n",
        "            for subelem in elem:\n",
        "                if subelem.tag == \"name\":\n",
        "                    bbox[\"class\"] = subelem.text\n",
        "                    \n",
        "                elif subelem.tag == \"bndbox\":\n",
        "                    for subsubelem in subelem:\n",
        "                        bbox[subsubelem.tag] = int(subsubelem.text)            \n",
        "            info_dict['bboxes'].append(bbox)\n",
        "    \n",
        "    return info_dict"
      ],
      "execution_count": null,
      "outputs": []
    },
    {
      "cell_type": "code",
      "metadata": {
        "id": "QNxh3iV_UIn3"
      },
      "source": [
        "############ 긁어온 xml 정보 확인 ############\n",
        "print(extract_info_from_xml('dataset/labels/Bright_20130218_153731_000210_v001_1.xml'))"
      ],
      "execution_count": null,
      "outputs": []
    },
    {
      "cell_type": "code",
      "metadata": {
        "id": "77CVB-CvUOeV"
      },
      "source": [
        "############ 클래스명과 클래스ID dictionary 만듬 ############\n",
        "class_name_to_id_mapping = {\"Vehicle_Car\": 0,\n",
        "                           \"Vehicle_Bus\": 1,\n",
        "                           \"Vehicle_Motorcycle\": 2,\n",
        "                           \"Vehicle_Unknown\": 3}"
      ],
      "execution_count": null,
      "outputs": []
    },
    {
      "cell_type": "code",
      "metadata": {
        "id": "ZxKPZJutUbIP"
      },
      "source": [
        "############ yolov5 형식으로 변환하는 함수 ############\n",
        "def convert_to_yolov5(info_dict):\n",
        "    global class_id\n",
        "    print_buffer = []\n",
        "    \n",
        "    for b in info_dict[\"bboxes\"]:\n",
        "        try:\n",
        "            class_id = class_name_to_id_mapping[b[\"class\"]]\n",
        "        except KeyError:\n",
        "            print(\"Invalid Class. Must be one from \", class_name_to_id_mapping.keys())\n",
        "        \n",
        "        b_center_x = (b[\"xmin\"] + b[\"xmax\"]) / 2 \n",
        "        b_center_y = (b[\"ymin\"] + b[\"ymax\"]) / 2\n",
        "        b_width    = (b[\"xmax\"] - b[\"xmin\"])\n",
        "        b_height   = (b[\"ymax\"] - b[\"ymin\"])\n",
        "        \n",
        "        image_w, image_h, image_c = info_dict[\"image_size\"]  \n",
        "        b_center_x /= image_w \n",
        "        b_center_y /= image_h \n",
        "        b_width    /= image_w \n",
        "        b_height   /= image_h \n",
        "        \n",
        "        print_buffer.append(\"{} {:.3f} {:.3f} {:.3f} {:.3f}\".format(class_id, b_center_x, b_center_y, b_width, b_height))\n",
        "        \n",
        "    save_file_name = os.path.join(\"dataset/labels\", info_dict[\"filename\"].replace(\"jpg\", \"txt\"))\n",
        "    \n",
        "    print(\"\\n\".join(print_buffer), file= open(save_file_name, \"w\"))"
      ],
      "execution_count": null,
      "outputs": []
    },
    {
      "cell_type": "code",
      "metadata": {
        "id": "yBJitHaGVUtG"
      },
      "source": [
        "############ 함수실행(포맷)을 위해 xml 파일이름 가져오기 ############\n",
        "annotations = [os.path.join('dataset/labels', x) for x in os.listdir('dataset/labels') if x[-3:] == \"xml\"]\n",
        "annotations.sort()\n",
        "\n",
        "############ 변환 후 저장(시간 조금 소요) ############\n",
        "for ann in tqdm(annotations):\n",
        "    info_dict = extract_info_from_xml(ann)\n",
        "    convert_to_yolov5(info_dict)\n",
        "annotations = [os.path.join('dataset/labels', x) for x in os.listdir('dataset/labels') if x[-3:] == \"txt\"]"
      ],
      "execution_count": null,
      "outputs": []
    },
    {
      "cell_type": "markdown",
      "metadata": {
        "id": "00VfoCBeTVBN"
      },
      "source": [
        "**3. Testing the annotations**\n",
        "\n",
        "xml이 잘 변환되어서 bb 잘 잡는지 테스트"
      ]
    },
    {
      "cell_type": "code",
      "metadata": {
        "id": "dW0ipq73V_7N"
      },
      "source": [
        "%cd /content/gdrive/MyDrive/객체탐지"
      ],
      "execution_count": null,
      "outputs": []
    },
    {
      "cell_type": "code",
      "metadata": {
        "id": "TTsqQhC2WCIh"
      },
      "source": [
        "random.seed(0)\n",
        "\n",
        "class_id_to_name_mapping = dict(zip(class_name_to_id_mapping.values(), class_name_to_id_mapping.keys()))\n",
        "\n",
        "def plot_bounding_box(image, annotation_list):\n",
        "    annotations = np.array(annotation_list)\n",
        "    w, h = image.size\n",
        "    \n",
        "    plotted_image = ImageDraw.Draw(image)\n",
        "\n",
        "    transformed_annotations = np.copy(annotations)\n",
        "    transformed_annotations[:,[1,3]] = annotations[:,[1,3]] * w\n",
        "    transformed_annotations[:,[2,4]] = annotations[:,[2,4]] * h \n",
        "    \n",
        "    transformed_annotations[:,1] = transformed_annotations[:,1] - (transformed_annotations[:,3] / 2)\n",
        "    transformed_annotations[:,2] = transformed_annotations[:,2] - (transformed_annotations[:,4] / 2)\n",
        "    transformed_annotations[:,3] = transformed_annotations[:,1] + transformed_annotations[:,3]\n",
        "    transformed_annotations[:,4] = transformed_annotations[:,2] + transformed_annotations[:,4]\n",
        "    \n",
        "    for ann in transformed_annotations:\n",
        "        obj_cls, x0, y0, x1, y1 = ann\n",
        "        plotted_image.rectangle(((x0,y0), (x1,y1)))\n",
        "        \n",
        "        plotted_image.text((x0, y0 - 10), class_id_to_name_mapping[(int(obj_cls))])\n",
        "    \n",
        "    plt.imshow(np.array(image))\n",
        "    plt.show()\n",
        "\n",
        "# Get any random annotation file \n",
        "annotation_file = random.choice(annotations)\n",
        "with open(annotation_file, \"r\") as file:\n",
        "    annotation_list = file.read().split(\"\\n\")[:-1]\n",
        "    annotation_list = [x.split(\" \") for x in annotation_list]\n",
        "    annotation_list = [[float(y) for y in x ] for x in annotation_list]\n",
        "\n",
        "#Get the corresponding image file\n",
        "image_file = annotation_file.replace(\"labels\", \"images\").replace(\"txt\", \"jpg\")\n",
        "assert os.path.exists(image_file)\n",
        "\n",
        "#Load the image\n",
        "image = Image.open(image_file)\n",
        "\n",
        "#Plot the Bounding Box\n",
        "plot_bounding_box(image, annotation_list)"
      ],
      "execution_count": null,
      "outputs": []
    },
    {
      "cell_type": "markdown",
      "metadata": {
        "id": "j11P7HvyWOWC"
      },
      "source": [
        "**4. Partition the Dataset**\n",
        "\n",
        "YOLOv5 학습 진행 하기전, train-valid dataset을 나누는 작업을 진행"
      ]
    },
    {
      "cell_type": "code",
      "metadata": {
        "id": "kZRSM37TWCLV"
      },
      "source": [
        "########## 사진과 라벨링 파일명 읽어오기 ##########\n",
        "images = [os.path.join('dataset/images', x) for x in os.listdir('dataset/images')]\n",
        "annotations = [os.path.join('dataset/labels', x) for x in os.listdir('dataset/labels') if x[-3:] == \"txt\"]\n",
        "\n",
        "images.sort()\n",
        "annotations.sort()"
      ],
      "execution_count": null,
      "outputs": []
    },
    {
      "cell_type": "code",
      "metadata": {
        "id": "sO4jgxgbWqZS"
      },
      "source": [
        "########## train-valid 8:2 비율로 데이터셋 나누기 ##########\n",
        "train_images, val_images, train_annotations, val_annotations = train_test_split(images, annotations, test_size = 0.2, random_state = 2000)"
      ],
      "execution_count": null,
      "outputs": []
    },
    {
      "cell_type": "code",
      "metadata": {
        "id": "os7Ci6yNW201"
      },
      "source": [
        "########## 나눠진 데이터를 각각 train, val 폴더에 옮겨줌 ##########\n",
        "!mkdir dataset/images/train dataset/images/val dataset/labels/train dataset/labels/val\n",
        "\n",
        "def move_files_to_folder(list_of_files, destination_folder):\n",
        "    for f in list_of_files:\n",
        "        try:\n",
        "            shutil.move(f, destination_folder)\n",
        "        except:\n",
        "            print(f)\n",
        "            assert False\n",
        "\n",
        "move_files_to_folder(train_images, 'dataset/images/train')\n",
        "move_files_to_folder(val_images, 'dataset/images/val/')\n",
        "move_files_to_folder(train_annotations, 'dataset/labels/train/')\n",
        "move_files_to_folder(val_annotations, 'dataset/labels/val/')"
      ],
      "execution_count": null,
      "outputs": []
    },
    {
      "cell_type": "markdown",
      "metadata": {
        "id": "qaSGkUSKR9TW"
      },
      "source": [
        "---\n",
        "# 과거작업"
      ]
    },
    {
      "cell_type": "markdown",
      "metadata": {
        "id": "ANYybOYoiYY1"
      },
      "source": [
        "## [1] Rename"
      ]
    },
    {
      "cell_type": "code",
      "metadata": {
        "id": "1K_s51mhYaaW"
      },
      "source": [
        "# 1) 경로설정\n",
        "from google.colab import drive\n",
        "drive.mount('/content/gdrive')\n",
        "%cd /content/gdrive/MyDrive/객체탐지/dataset"
      ],
      "execution_count": null,
      "outputs": []
    },
    {
      "cell_type": "code",
      "metadata": {
        "id": "95uCH70hcAE6"
      },
      "source": [
        "# 2) 필요한 라이브러리 임포트\n",
        "import os\n",
        "import torch\n",
        "from IPython.display import Image\n",
        "import os \n",
        "import random\n",
        "import shutil\n",
        "from sklearn.model_selection import train_test_split\n",
        "import xml.etree.ElementTree as ET\n",
        "from xml.dom import minidom\n",
        "from tqdm import tqdm\n",
        "from PIL import Image, ImageDraw\n",
        "import numpy as np\n",
        "import matplotlib.pyplot as plt"
      ],
      "execution_count": null,
      "outputs": []
    },
    {
      "cell_type": "code",
      "metadata": {
        "id": "bG-fMdIlb481"
      },
      "source": [
        "# 3) 이미지 폴더 접근\n",
        "## 주어진 디렉토리에 있는 항목들의 이름을 담고 있는 리스트를 반환합니다.\n",
        "## 리스트는 임의의 순서대로 나열됩니다.\n",
        "images = os.listdir('origin/images')\n",
        "images.sort()\n",
        "\n",
        "labels = os.listdir('origin/labels')\n",
        "labels.sort()"
      ],
      "execution_count": null,
      "outputs": []
    },
    {
      "cell_type": "code",
      "metadata": {
        "id": "-sz2x_RzdF_y",
        "colab": {
          "base_uri": "https://localhost:8080/"
        },
        "outputId": "c0051a94-4e6a-4194-c67e-3d6826395335"
      },
      "source": [
        "# 파일명 확인\n",
        "print(images[1200:1204])\n",
        "print(labels[1200:1204])"
      ],
      "execution_count": null,
      "outputs": [
        {
          "output_type": "stream",
          "name": "stdout",
          "text": [
            "['3_20201019_165355_000570.jpg', '3_20201019_165355_000600.jpg', '3_20201019_165355_000630.jpg', '3_20201019_171412_000360.jpg']\n",
            "['3_20201019_165355_000570_v001_1.xml', '3_20201019_165355_000600_v001_1.xml', '3_20201019_165355_000630_v001_1.xml', '3_20201019_171412_000360_v001_1.xml']\n"
          ]
        }
      ]
    },
    {
      "cell_type": "code",
      "metadata": {
        "id": "Yu6FucQyIWH_"
      },
      "source": [
        "file_path = 'origin/images'\n",
        "result_path = 'images'\n",
        "file_names = images\n",
        "\n",
        "file2_path = 'origin/labels'\n",
        "result2_path = 'labels'\n",
        "file2_names = labels"
      ],
      "execution_count": null,
      "outputs": []
    },
    {
      "cell_type": "code",
      "metadata": {
        "id": "vH4ftXrodGB1"
      },
      "source": [
        "# 4) 차례대로 파일 이름을 변경하고 저장 \".jpg\"\n",
        "## os.rename(src, dst) 메서드는 파일 또는 디렉토리(폴더) src의 이름을 dst로 변경합니다.\n",
        "i = 1\n",
        "for name in file_names:\n",
        "    src = os.path.join(file_path, name)\n",
        "    dst = str(i) + '.jpg'\n",
        "    dst = os.path.join(result_path, dst)\n",
        "    os.rename(src, dst)\n",
        "    i += 1"
      ],
      "execution_count": null,
      "outputs": []
    },
    {
      "cell_type": "code",
      "metadata": {
        "id": "MdvPX5wKfDNv"
      },
      "source": [
        "# 4) 차례대로 파일 이름을 변경하고 저장 \".xml\"\n",
        "## os.rename(src, dst) 메서드는 파일 또는 디렉토리(폴더) src의 이름을 dst로 변경합니다.\n",
        "i = 1\n",
        "for name in file2_names:\n",
        "    src = os.path.join(file2_path, name)\n",
        "    dst = str(i) + '.xml'\n",
        "    dst = os.path.join(result2_path, dst)\n",
        "    os.rename(src, dst)\n",
        "    i += 1"
      ],
      "execution_count": null,
      "outputs": []
    },
    {
      "cell_type": "markdown",
      "metadata": {
        "id": "0nsiN6MgOFOf"
      },
      "source": [
        "## [2] XmlToTxt\n",
        "- https://github.com/Isabek/XmlToTxt\n",
        "\n",
        "## [3] Devide"
      ]
    },
    {
      "cell_type": "markdown",
      "metadata": {
        "id": "Ka5z9o_uBcOZ"
      },
      "source": [
        "## [4] 사진 거르기\n",
        "\n",
        "class 1,2,3,4 하나라도 있으면 살리고 없으면 제거."
      ]
    },
    {
      "cell_type": "code",
      "metadata": {
        "id": "BuD1X08yBi5b"
      },
      "source": [
        "# 1) 경로설정\n",
        "%cd /content/gdrive/MyDrive/객체탐지/dataset"
      ],
      "execution_count": null,
      "outputs": []
    },
    {
      "cell_type": "code",
      "metadata": {
        "id": "KDIIyZDkBjBv"
      },
      "source": [
        "# 2) 필요한 라이브러리 임포트\n",
        "import os\n",
        "from glob import glob"
      ],
      "execution_count": null,
      "outputs": []
    },
    {
      "cell_type": "code",
      "metadata": {
        "id": "321BuG97BjDt"
      },
      "source": [
        "img_list = glob('labels/train/*.txt')\n",
        "val_img_list = glob('labels/val/*.txt')\n",
        "\n",
        "print(len(img_list))\n",
        "print(len(val_img_list))"
      ],
      "execution_count": null,
      "outputs": []
    },
    {
      "cell_type": "code",
      "metadata": {
        "id": "Cr0UM0C0BjFt"
      },
      "source": [
        "four = [] #체크를 위한 리스트 생성\n",
        "\n",
        "## 여기서 val_img_list / img_list 두개를 변경하면서 내부의 다른 index를 제거해주어야 한다.\n",
        "for x in img_list:\n",
        "    four = [] #새로운 라벨링 데이터 .txt를 불렀을 때 초기화를 위함\n",
        "    f = open(x, 'r')\n",
        "    lines = f.readlines() \n",
        "    for line in lines: #읽어들인 모든 데이터를 한 줄씩 불러옴\n",
        "\n",
        "        # 1,2,3,4 없으면 모두 제거하기 위해 check.\n",
        "        # 1:Vehicle_Car 2:Vehicle_Bus 3:Vehicle_Motorcycle 4:Vehicle_Unknown\n",
        "        if (int(line.split(' ')[0]) == 1) or (int(line.split(' ')[0]) == 2) or (int(line.split(' ')[0]) == 3) or (int(line.split(' ')[0]) == 4):\n",
        "            four.append(line)\n",
        "\n",
        "    # 만약 넷 중 하나도 없는 사진이 있다면 제거.\n",
        "    if len(four) == 0:\n",
        "        print(\"four 내용 없음\")\n",
        "        os.remove(x.split('.txt')[0].replace('labels','images')+'.jpg')\n",
        "        os.remove(x)\n",
        "        \n",
        "    f.close()\n",
        "    \n",
        "    #두 개가 존재한다면 다시 두 개만 불러오도록 재정의.\n",
        "    #다시 쓰는이유는 하나의 사진에 1,2,3,4 이외에 다른 값도 있는 사진을 수정하기 위함.\n",
        "    #w를 이용해 재정의하면 원래 txt파일에 존재하는 모든 수치를 제거하고 처음부터 적는다. 이를 이용함.\n",
        "    if len(four) >= 1:\n",
        "        print(\"four 씀: \", len(four))\n",
        "        w = open(x,'w')\n",
        "        w.writelines(four)\n",
        "        w.close()"
      ],
      "execution_count": null,
      "outputs": []
    },
    {
      "cell_type": "code",
      "metadata": {
        "id": "Omh4XbmABjHm"
      },
      "source": [
        "four = []\n",
        "count1 = 0\n",
        "count2 = 0\n",
        "count3 = 0\n",
        "count4 = 0\n",
        "\n",
        "for x in val_img_list:\n",
        "    four = []\n",
        "    f = open(x, 'r')\n",
        "    lines = f.readlines()\n",
        "\n",
        "    for line in lines:\n",
        "        if line.split(' ')[0] == '1':\n",
        "            four.append(line.replace(line.split(' ')[0], '0'))\n",
        "            count1 += 1\n",
        "        elif line.split(' ')[0] == '2':\n",
        "            four.append(line.replace(line.split(' ')[0], '1'))\n",
        "            count2 += 1\n",
        "        elif line.split(' ')[0] == '3':\n",
        "            four.append(line.replace(line.split(' ')[0], '2'))\n",
        "            count3 += 1\n",
        "        elif line.split(' ')[0] == '4':\n",
        "            four.append(line.replace(line.split(' ')[0], '3'))\n",
        "            count4 += 1\n",
        "  \n",
        "    f.close()\n",
        "\n",
        "    w = open(x,'w')\n",
        "    w.writelines(four)\n",
        "    w.close()\n",
        "\n",
        "print(' 1:Vehicle_Car %d 개 변환 완료 ' % count1 )\n",
        "print(' 2:Vehicle_Bus %d 개 변환 완료 ' % count2 )\n",
        "print(' 3:Vehicle_Motorcycle %d 개 변환 완료 ' % count3 )\n",
        "print(' 4:Vehicle_Unknown %d 개 변환 완료 ' % count4 )\n",
        "\n",
        "## val_img_list\n",
        "# 1:Vehicle_Car 2155 개 변환 완료 \n",
        "# 2:Vehicle_Bus 109 개 변환 완료 \n",
        "# 3:Vehicle_Motorcycle 195 개 변환 완료 \n",
        "# 4:Vehicle_Unknown 579 개 변환 완료 \n",
        "\n",
        "## img_list (train)\n",
        "# 1:Vehicle_Car 8967 개 변환 완료 \n",
        "# 2:Vehicle_Bus 399 개 변환 완료 \n",
        "# 3:Vehicle_Motorcycle 790 개 변환 완료 \n",
        "# 4:Vehicle_Unknown 2395 개 변환 완료 "
      ],
      "execution_count": null,
      "outputs": []
    },
    {
      "cell_type": "markdown",
      "metadata": {
        "id": "elXld6J6OuH9"
      },
      "source": [
        "# **Issue**\n",
        "\n",
        "파일명이 복잡해서 간단하게 바꾼 후 구분할 클래스 4종이 하나라도 안들어 있는 사진이 있다면 거르는 작업을 통해 학습 성능을 높여 볼려고 생각하고 진행했다. \n",
        "\n",
        "이 때, 굉장히 이상하게 detection되고 있는 것을 확인하고 문제점을 찾아보니 파일명을 rename하는 과정에서 xml에 있는 filename과 rename된 파일이름이 달라지면서 학습과정에 문제가 발생했다. 또한, 걸러진 사진이 10개도 되지 않아서 정확도에 주는 영향은 미미했다.\n",
        "\n",
        "이 작업을 훗날 다시 하게된다면 아래 순서로 해야할 것이다.\n",
        "1. xml 사진 거르고\n",
        "2. xml 변환 한 다음에\n",
        "3. xml 파일명 수정시 filename도 함께 수정."
      ]
    }
  ]
}